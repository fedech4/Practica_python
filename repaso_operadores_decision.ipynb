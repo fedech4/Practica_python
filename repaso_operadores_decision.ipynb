{
  "nbformat": 4,
  "nbformat_minor": 0,
  "metadata": {
    "colab": {
      "name": "repaso_operadores_decision.ipynb",
      "provenance": [],
      "authorship_tag": "ABX9TyPGbIsXGy+CAhyOEJph2dYK",
      "include_colab_link": true
    },
    "kernelspec": {
      "name": "python3",
      "display_name": "Python 3"
    },
    "language_info": {
      "name": "python"
    }
  },
  "cells": [
    {
      "cell_type": "markdown",
      "metadata": {
        "id": "view-in-github",
        "colab_type": "text"
      },
      "source": [
        "<a href=\"https://colab.research.google.com/github/fedechavesf/Practica_python/blob/main/repaso_operadores_decision.ipynb\" target=\"_parent\"><img src=\"https://colab.research.google.com/assets/colab-badge.svg\" alt=\"Open In Colab\"/></a>"
      ]
    },
    {
      "cell_type": "code",
      "metadata": {
        "colab": {
          "base_uri": "https://localhost:8080/"
        },
        "id": "lmTyxrB8VLFQ",
        "outputId": "069d2e4a-dc0e-4b8e-ad5c-a17f2f247c02"
      },
      "source": [
        "#ejercicio 1\n",
        "\n",
        "#Haz que un usuario introduzca un número real y evalúa si dicho número es positivo, negativo o cero. Devuelve\n",
        "#por pantalla el resultado en cada caso.\n",
        "\n",
        "numero_usuario = float(input(\"introduce un número:  \"))\n",
        "\n",
        "if numero_usuario > 0:\n",
        "    print(\"el numero introducido por el usuario, el {}, es positivo.\".format(numero_usuario))\n",
        "elif numero_usuario == 0:\n",
        "    print(\"el numero introducido por el usuario, el {}, es cero.\".format(numero_usuario))\n",
        "elif numero_usuario < 0:\n",
        "    print(\"el numero introducido por el usuario, el {}, es negativo.\".format(numero_usuario))\n",
        "else:\n",
        "    print(\"no entiendo este comando\")\n"
      ],
      "execution_count": null,
      "outputs": [
        {
          "output_type": "stream",
          "name": "stdout",
          "text": [
            "introduce un número:  0\n",
            "el numero introducido por el usuario, el 0.0, es cero.\n"
          ]
        }
      ]
    },
    {
      "cell_type": "code",
      "metadata": {
        "colab": {
          "base_uri": "https://localhost:8080/"
        },
        "id": "j8pnK2qaWlm9",
        "outputId": "97283065-65ad-4433-f87c-c1350792e150"
      },
      "source": [
        "#ejercicio 2\n",
        "\n",
        "#Haz que un usuario introduzca su nombre y evalúa con operadores if y else si dicho nombre tiene una\n",
        "#longitud mayor a 10 caracteres o no. Devuelve por pantalla el resultado en cada caso.\n",
        "\n",
        "nombre_usuario1 = input(\"introduce un número:  \")\n",
        "len_nombre_usuario1 = len(nombre_usuario1)\n",
        "\n",
        "if len_nombre_usuario1 >= 10:\n",
        "    print(\"el nombre del usuario es igual o mayor a 10\")\n",
        "else:\n",
        "    print(\"el nombre del usuario es menor a 10\")"
      ],
      "execution_count": null,
      "outputs": [
        {
          "output_type": "stream",
          "name": "stdout",
          "text": [
            "introduce un número:  federicochaves\n",
            "el nombre del usuario es igual o mayor a 10\n"
          ]
        }
      ]
    },
    {
      "cell_type": "code",
      "metadata": {
        "colab": {
          "base_uri": "https://localhost:8080/"
        },
        "id": "9xVyV_qyXeW5",
        "outputId": "e7ef1ff7-5db9-44a1-aea3-3e1ac63b111f"
      },
      "source": [
        "#ejercicio 3\n",
        "\n",
        "print(\"el nombre del usuario es igual o mayor a 10\") if len_nombre_usuario1 >= 10 else print(\"el nombre del usuario es menor a 10\")\n"
      ],
      "execution_count": null,
      "outputs": [
        {
          "output_type": "stream",
          "name": "stdout",
          "text": [
            "el nombre del usuario es igual o mayor a 10\n"
          ]
        }
      ]
    },
    {
      "cell_type": "code",
      "metadata": {
        "colab": {
          "base_uri": "https://localhost:8080/"
        },
        "id": "Zob4NaIKX-tC",
        "outputId": "4942a7a5-015d-478e-a529-b272ae0304c5"
      },
      "source": [
        "#ejercicio 4\n",
        "\n",
        "#Haz que un usuario introduzca dos números enteros positivos. Comprueba si el primer número introducido\n",
        "#por el usuario es mayor o igual que el segundo número introducido por el usuario. Devuelve por pantalla el\n",
        "#resultado en cada caso.\n",
        "#PISTA: Asegúrate de hacer uso de la función int() donde pertoque.\n",
        "\n",
        "\n",
        "numero_usuario1 = int(input(\"introduce un número:  \"))\n",
        "numero_usuario2 = int(input(\"introduce un número:  \"))\n",
        "\n",
        "if numero_usuario1 >= numero_usuario2:\n",
        "    print(\"Numero de usuario 1 es mayor o igual al 2\")\n",
        "else:\n",
        "    print(\"Numero de usuario 1 es menor al 2\")\n"
      ],
      "execution_count": null,
      "outputs": [
        {
          "output_type": "stream",
          "name": "stdout",
          "text": [
            "introduce un número:  2\n",
            "introduce un número:  1\n",
            "Numero de usuario 1 es mayor o igual al 2\n"
          ]
        }
      ]
    },
    {
      "cell_type": "code",
      "metadata": {
        "colab": {
          "base_uri": "https://localhost:8080/"
        },
        "id": "VLBBgHkHYw_X",
        "outputId": "aedb6478-f8d0-4600-f1c2-84325a692d9f"
      },
      "source": [
        "#ejercicio 5\n",
        "\"\"\"\n",
        "Haz que un usuario introduzca dos números enteros positivos. Suponiendo que el primer número introducido\n",
        "por el usuario es mayor o igual al segundo número introducido por el usuario, comprueba que la división del\n",
        "primer número entre el segundo número es exacta.\n",
        "En caso de la división ser exacta, devuelve el cociente por pantalla e indica que la división en efecto es exacta.\n",
        "En caso de la división no ser exacta, devuelve el cociente y el resto por pantalla e indica que la división entre\n",
        "los dos números no es exacta\n",
        "\"\"\"\n",
        "numero_usuario1 = int(input(\"introduce un número:  \"))\n",
        "numero_usuario2 = int(input(\"introduce un número:  \"))\n",
        "\n",
        "if numero_usuario1 >= numero_usuario2:\n",
        "    if numero_usuario1 % numero_usuario2 == 0:\n",
        "        print(\"la division es exacta, el cociente es {}\".format(numero_usuario1//numero_usuario2))\n",
        "    elif numero_usuario1 % numero_usuario2 != 0:\n",
        "        print(\"la division es inexacta, el cociente es {} y el resto {}\".format(numero_usuario1//numero_usuario2, numero_usuario1%numero_usuario2))\n",
        "    else:\n",
        "        print(\"no se pudo realizar la operacion\")\n",
        "else:\n",
        "    print(\"el numero primero es menor al segundo\")\n",
        "\n",
        "        "
      ],
      "execution_count": null,
      "outputs": [
        {
          "output_type": "stream",
          "name": "stdout",
          "text": [
            "introduce un número:  5\n",
            "introduce un número:  2\n",
            "la division es inexacta, el cociente es 2 y el resto 1\n"
          ]
        }
      ]
    },
    {
      "cell_type": "code",
      "metadata": {
        "colab": {
          "base_uri": "https://localhost:8080/"
        },
        "id": "Yhqmvibjafma",
        "outputId": "8f498bf2-2ede-4569-dfbe-cea31e007adf"
      },
      "source": [
        "#ejercicio 6\n",
        "\"\"\"\n",
        "Fusiona lo hecho en los ejercicios 4 y 5 para que\n",
        "1. Un usuario introduzca dos números enteros por pantalla.\n",
        "2. Comprobar si el primer número es mayor o igual al segundo número introducido por el usuario. Devolver\n",
        "por pantalla en que caso nos encontramos.\n",
        "3. Hacer la división entera pertinente en cada caso.\n",
        "4. Si la división es exacta, entonces devolver por pantalla el cociente e indicar que la división es exacta.\n",
        "Si la división no es exacta, entonces devolver por pantalla el cociente y el resto e indicar que la división\n",
        "realizada no es exacta.\n",
        "\"\"\"\n",
        "numero_usuario1 = int(input(\"introduce un número:  \"))\n",
        "numero_usuario2 = int(input(\"introduce un número:  \"))\n",
        "\n",
        "if numero_usuario1 >= numero_usuario2:\n",
        "    print(\"el primer numero es mayor al segundo\")\n",
        "    if numero_usuario1 % numero_usuario2 == 0:\n",
        "        print(\"la division es exacta, el cociente es {}\".format(numero_usuario1//numero_usuario2))\n",
        "    elif numero_usuario1 % numero_usuario2 != 0:\n",
        "        print(\"la division es inexacta, el cociente es {} y el resto {}\".format(numero_usuario1//numero_usuario2, numero_usuario1%numero_usuario2))\n",
        "    else:\n",
        "        print(\"no se pudo realizar la operacion\")\n",
        "else:\n",
        "    print(\"el numero primero es menor al segundo\")\n"
      ],
      "execution_count": null,
      "outputs": [
        {
          "output_type": "stream",
          "name": "stdout",
          "text": [
            "introduce un número:  5\n",
            "introduce un número:  2\n",
            "el primer numero es mayor al segundo\n",
            "la division es inexacta, el cociente es 2.0 y el resto 1.0\n"
          ]
        }
      ]
    },
    {
      "cell_type": "code",
      "metadata": {
        "colab": {
          "base_uri": "https://localhost:8080/"
        },
        "id": "o3Itu7MGbo2G",
        "outputId": "bed005b7-53c5-4607-c6b5-6be7591fb645"
      },
      "source": [
        "#ejercicio 7\n",
        "\"\"\"\n",
        "Haz que un usuario introduzca dos números enteros positivos. Comprueba si el mayor es múltiplo del menor.\n",
        "Devuelve por pantalla el resultado en cada caso.\n",
        "\"\"\"\n",
        "numero_usuario1 = int(input(\"introduce un número:  \"))\n",
        "numero_usuario2 = int(input(\"introduce un número:  \"))\n",
        "\n",
        "if numero_usuario1 >= numero_usuario2:\n",
        "    if numero_usuario1 % numero_usuario2 == 0:\n",
        "        print(\"Numero de usuario 1 es multiplo del usuario 2\")\n",
        "    else:\n",
        "        print(\"no es multiplo\")\n",
        "elif numero_usuario2 >= numero_usuario1:\n",
        "    if numero_usuario2 % numero_usuario1 == 0:\n",
        "        print(\"Numero de usuario 2 es multiplo del usuario 1\")\n",
        "    else:\n",
        "        print(\"no es multiplo\")\n",
        "else:\n",
        "    print(\"Numero de usuario 1 no es multiplo del usuario 2\")"
      ],
      "execution_count": null,
      "outputs": [
        {
          "output_type": "stream",
          "name": "stdout",
          "text": [
            "introduce un número:  2\n",
            "introduce un número:  -40\n",
            "no es multiplo\n"
          ]
        }
      ]
    },
    {
      "cell_type": "code",
      "metadata": {
        "id": "79b-vXxndluq"
      },
      "source": [
        "#ejercicio 8\n",
        "\"\"\"\n",
        "Haz que un usuario introduzca una palabra y comprueba si dicha palabra empieza por mayúscula. Devuelve\n",
        "por pantalla el resultado en cada caso.\n",
        "\"\"\"\n",
        "palabra_usuario1 = input(\"introduce una palabra:  \")\n",
        "upper_palabra_usuario1 = palabra_usuario1.upper()\n",
        "\n",
        "\n",
        "if palabra_usuario1[0] == upper_palabra_usuario1[0]:\n",
        "    print(\"la primera es mayuscula\")\n",
        "else:\n",
        "    print(\"no, no es\")"
      ],
      "execution_count": null,
      "outputs": []
    },
    {
      "cell_type": "code",
      "metadata": {
        "colab": {
          "base_uri": "https://localhost:8080/"
        },
        "id": "NeXDXetyfdpd",
        "outputId": "391bd75c-e100-427b-c60c-ae44d9fd1aa6"
      },
      "source": [
        "#ejercicio 9\n",
        "\n",
        "\"\"\"\n",
        "Haz un usuario introduza una letra y comprueba si se trata de una vocal. Si el usuario introduce un string\n",
        "de más de un carácter, infórmale de que no se puede procesar el dato, pues debe tener como máximo tamaño\n",
        "1.\n",
        "PISTA: Convierte la letra introducida a minúsculas para tener que realizar menos comprobaciones\n",
        "\"\"\" \n",
        "letra_usuario1 = input(\"introduce una letra:  \")\n",
        "lower_letra_usuario1 = letra_usuario1.lower()\n",
        "print(lower_letra_usuario1)\n",
        "len_letra_usuario1 = len(letra_usuario1)\n",
        "print(len_letra_usuario1)\n",
        "\n",
        "if len_letra_usuario1 == 1:\n",
        "    if lower_letra_usuario1 == (\"a\" or \"e\" or \"i\" or \"u\" or \"o\"):\n",
        "        print(\"it's a vowel!\")\n",
        "    else:\n",
        "        print(\"it's not a vowel :(\")\n",
        "else:\n",
        "    print(\"no escribiste una sola letra\")\n"
      ],
      "execution_count": null,
      "outputs": [
        {
          "output_type": "stream",
          "name": "stdout",
          "text": [
            "introduce una letra:  l\n",
            "l\n",
            "1\n",
            "it's not a vowel :(\n"
          ]
        }
      ]
    }
  ]
}