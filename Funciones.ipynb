{
  "nbformat": 4,
  "nbformat_minor": 0,
  "metadata": {
    "colab": {
      "name": "Funciones.ipynb",
      "provenance": [],
      "authorship_tag": "ABX9TyPsL/zRgVv/irjodpwa0mkv",
      "include_colab_link": true
    },
    "kernelspec": {
      "name": "python3",
      "display_name": "Python 3"
    },
    "language_info": {
      "name": "python"
    }
  },
  "cells": [
    {
      "cell_type": "markdown",
      "metadata": {
        "id": "view-in-github",
        "colab_type": "text"
      },
      "source": [
        "<a href=\"https://colab.research.google.com/github/ksh0t/Practica_python/blob/main/Funciones.ipynb\" target=\"_parent\"><img src=\"https://colab.research.google.com/assets/colab-badge.svg\" alt=\"Open In Colab\"/></a>"
      ]
    },
    {
      "cell_type": "code",
      "execution_count": null,
      "metadata": {
        "colab": {
          "base_uri": "https://localhost:8080/"
        },
        "id": "V0d-XchiOKKy",
        "outputId": "c42cac1d-2038-4817-f249-b3b94759041a"
      },
      "outputs": [
        {
          "output_type": "stream",
          "name": "stdout",
          "text": [
            "escribe un numero100\n",
            "[1, 2, 4, 5, 10, 20, 25, 50]\n"
          ]
        }
      ],
      "source": [
        "#Ejercicio 1\n",
        "\"\"\"\n",
        "Crea una función que busque todos los divisores del número entero positivo dado por parámetro y devuelva\n",
        "una lista con todos los divisores de dicho número.\n",
        "\"\"\"\n",
        "listadivis=[]\n",
        "num1 = int(input((\"escribe un numero\")))\n",
        "\n",
        "def divisores(num1):\n",
        "    listadivis = []\n",
        "    for n in range(1, num1-1):\n",
        "        if num1 % n == 0:\n",
        "            listadivis.append(n)\n",
        "    print(listadivis)\n",
        "\n",
        "divisores(num1)\n",
        "\n",
        "    \n"
      ]
    },
    {
      "cell_type": "code",
      "source": [
        "#ejercicio2\n",
        "\"\"\"\n",
        "Crea una función que dados dos números reales por parámetro, devuelve el mayor.\n",
        "\"\"\"\n",
        "\n",
        "def cualEsMayor(num1, num2):\n",
        "    if num1>num2:\n",
        "        print(num1)\n",
        "    else:\n",
        "        print(num2)\n",
        "\n",
        "cualEsMayor(4,2)"
      ],
      "metadata": {
        "id": "3b5mz2F9Lf2C",
        "outputId": "77c3bba1-278c-4236-f8fe-356dee2a5af8",
        "colab": {
          "base_uri": "https://localhost:8080/"
        }
      },
      "execution_count": null,
      "outputs": [
        {
          "output_type": "stream",
          "name": "stdout",
          "text": [
            "4\n"
          ]
        }
      ]
    },
    {
      "cell_type": "code",
      "source": [
        "#ejercicio 3\n",
        "\"\"\"\n",
        "Crea una función que dado un número devuelva su valor absoluto. Recuerda\n",
        "\"\"\"\n",
        "\n",
        "def absolut(n):\n",
        "    if n >= 0:\n",
        "        print(n)\n",
        "    else:\n",
        "        print(-n)\n",
        "\n",
        "absolut(6*33)"
      ],
      "metadata": {
        "id": "FtuKlZumLidT",
        "outputId": "44ad23e2-fc9f-435f-f478-b68ad91b7ce4",
        "colab": {
          "base_uri": "https://localhost:8080/"
        }
      },
      "execution_count": null,
      "outputs": [
        {
          "output_type": "stream",
          "name": "stdout",
          "text": [
            "198\n"
          ]
        }
      ]
    },
    {
      "cell_type": "code",
      "source": [
        "#ejercicio 4\n",
        "\"\"\"\n",
        "Crea una función que devuelva True si el caracter introducido por parámetro se trata de una vocal y False\n",
        "en caso contrario.\n",
        "\"\"\"\n",
        "\n",
        "car1 = input((\" \"))\n",
        "car1 = car1.lower()\n",
        "\n",
        "def identCar (x):\n",
        "    if x == \"a\" or x == \"e\" or x == \"i\" or x == \"o\" or x == \"u\":\n",
        "        return True\n",
        "    else:\n",
        "        return False\n",
        "\n",
        "print(identCar(car1))"
      ],
      "metadata": {
        "id": "ueSpW0R3Oot_",
        "outputId": "07aef11f-5cbc-4bc8-c056-cc7f7b90424c",
        "colab": {
          "base_uri": "https://localhost:8080/"
        }
      },
      "execution_count": null,
      "outputs": [
        {
          "output_type": "stream",
          "name": "stdout",
          "text": [
            " o\n",
            "True\n"
          ]
        }
      ]
    },
    {
      "cell_type": "code",
      "source": [
        "#ejercicio 5\n",
        "\"\"\"\n",
        "Crea una función que devuelva el MCD (máximo común divisor) de 2 números proporcionados por parámetro.\n",
        "PISTA: Aprovecha la función que calcula el mayor entre dos números dados. También necesitarás una función\n",
        "que calcula el menor entre dos números dados.\n",
        "\"\"\"\n",
        "n1 = int(input(\"dame un numero: \"))\n",
        "n2 = int(input(\"dame un numero: \"))\n",
        "\n",
        "def grande(n1, n2):\n",
        "    if n1 >= n2:\n",
        "        return n1\n",
        "    return n2\n",
        "\n",
        "def chico(n1, n2):\n",
        "    if n1 <= n2:\n",
        "        return n1\n",
        "    return n2\n",
        "\n",
        "def MCD(n1,n2):\n",
        "    r = 0\n",
        "    max = grande(n1, n2)\n",
        "    min = chico(n1,n2)\n",
        "    while min > 0:\n",
        "        r = min\n",
        "        min = max % min\n",
        "        max = r\n",
        "    return max\n",
        "\n",
        "print(MCD(n1,n2))\n"
      ],
      "metadata": {
        "colab": {
          "base_uri": "https://localhost:8080/"
        },
        "id": "byRg3OVwoZbq",
        "outputId": "0fd93c68-93b8-4c5a-e0b1-c557617d1e65"
      },
      "execution_count": null,
      "outputs": [
        {
          "output_type": "stream",
          "name": "stdout",
          "text": [
            "dame un numero: 40\n",
            "dame un numero: 30\n",
            "10\n"
          ]
        }
      ]
    },
    {
      "cell_type": "code",
      "source": [
        "#ejercicio 6\n",
        "\"\"\"\n",
        "Crea una función que devuelva el MCM (mínimo común múltiplo) de 2 números proporcionados por\n",
        "parámetro.\n",
        "PISTA: Aprovecha la función que calcula el MCD de dos números del ejercicio anterior y la función que\n",
        "calcula el valor absoluto de un número.\n",
        "\"\"\"\n",
        "n1 = int(input(\"dame un numero: \"))\n",
        "n2 = int(input(\"dame un numero: \"))\n",
        "\n",
        "def absolut(n1):\n",
        "    if n1 >= 0:\n",
        "        return n1\n",
        "\n",
        "def grande(n1, n2):\n",
        "    if n1 >= n2:\n",
        "        return n1\n",
        "    return n2\n",
        "\n",
        "def chico(n1, n2):\n",
        "    if n1 <= n2:\n",
        "        return n1\n",
        "    return n2\n",
        "\n",
        "def MCD(n1,n2):\n",
        "    r = 0\n",
        "    max = grande(n1, n2)\n",
        "    min = chico(n1,n2)\n",
        "    while min > 0:\n",
        "        r = min\n",
        "        min = max % min\n",
        "        max = r\n",
        "    return max\n",
        "\n",
        "print(MCD(n1,n2))\n",
        "\n",
        "def MCM (n1,n2):\n",
        "    return absolut(n1 * n2) // MCD(n1, n2)\n",
        "\n",
        "print(MCM(n1,n2))\n"
      ],
      "metadata": {
        "id": "f-cqhfEYuxHE",
        "outputId": "76e10601-4756-4ab2-d8ce-eed82899efbe",
        "colab": {
          "base_uri": "https://localhost:8080/",
          "height": 90
        }
      },
      "execution_count": null,
      "outputs": [
        {
          "output_type": "stream",
          "name": "stdout",
          "text": [
            "dame un numero: 6\n",
            "dame un numero: 33\n",
            "3\n"
          ]
        },
        {
          "output_type": "execute_result",
          "data": {
            "application/vnd.google.colaboratory.intrinsic+json": {
              "type": "string"
            },
            "text/plain": [
              "'\\ndef MCM (n1,n2):\\n    return absolut(n1 * n2) // MCD(n1, n2)\\n\\nprint(MCM(n1,n2))\\n'"
            ]
          },
          "metadata": {},
          "execution_count": 15
        }
      ]
    },
    {
      "cell_type": "code",
      "source": [
        "#ejercicio 7\n",
        "\"\"\"\n",
        "Crea una función que dada una palabra devuelva si es palíndroma.\n",
        "\"\"\"\n",
        "p1 = input(\"palabra: \")\n",
        "\n",
        "def palin(word):\n",
        "    word = word.lower()\n",
        "    listp = []\n",
        "    palindrome = True\n",
        "    for i in word:\n",
        "        listp.append(i)\n",
        "    n = len(listp)\n",
        "    for i in range(int(n / 2)):\n",
        "        print(i)\n",
        "        print(listp[n - (i+1)])\n",
        "        if listp[i] != listp[n - (i+1)]:\n",
        "            palindrome = False\n",
        "    return palindrome\n",
        "\n",
        "palin(p1)"
      ],
      "metadata": {
        "id": "l0jc7SMhjO0d",
        "outputId": "dc0db6a3-ea7b-44dd-acb6-b7dfd1536f3f",
        "colab": {
          "base_uri": "https://localhost:8080/"
        }
      },
      "execution_count": null,
      "outputs": [
        {
          "output_type": "stream",
          "name": "stdout",
          "text": [
            "palabra: reconocer\n",
            "0\n",
            "r\n",
            "1\n",
            "e\n",
            "2\n",
            "c\n",
            "3\n",
            "o\n"
          ]
        },
        {
          "output_type": "execute_result",
          "data": {
            "text/plain": [
              "True"
            ]
          },
          "metadata": {},
          "execution_count": 8
        }
      ]
    },
    {
      "cell_type": "code",
      "source": [
        "#ejercicio 8\n",
        "\"\"\"\n",
        "Crea una función que dado un color en hexadecimal devuelva una lista de 3 posiciones, cada una de ellas\n",
        "correspondiente al valor R, G o B en este orden. Los valores de RGB varían entre 0 y 255.\n",
        "\"\"\"\n",
        "def hex_to_decimal(hex_num):\n",
        "    hex_to_dec = {\"0\":0 , \"1\":1 , \"2\":2 , \"3\":3 , \"4\":4 , \"5\":5 , \"6\":6 , \"7\":7 , \"8\":8 , \"9\":9 ,\n",
        "                \"A\":10, \"B\":11, \"C\":12, \"E\":13, \"F\":14, \"G\":15} \n",
        "    \n",
        "    dec = 0\n",
        "    for i in range(len(hex_num)):\n",
        "        print(hex_to_dec[hex_num[i]])\n",
        "        print(len(hex_num))\n",
        "        print(i + 1)\n",
        "        dec += hex_to_dec[hex_num[i]] * 16 ** (len(hex_num) - (i + 1))\n",
        "    return dec\n",
        "\n",
        "def hex_color_to_rgb(color_hex):\n",
        "    color_hex = color_hex.upper()\n",
        "    if len(color_hex) == 6:\n",
        "        r = color_hex[:2]\n",
        "        r = hex_to_decimal(r)\n",
        "        g = color_hex[2:4]\n",
        "        g = hex_to_decimal(g)\n",
        "        b = color_hex[4:6]\n",
        "        b = hex_to_decimal(b)\n",
        "        return [r, g, b]\n",
        "    else:\n",
        "        print(\"un color en forma hexadecimal consta de 6 caracteres\")\n",
        "\n",
        "hex_to_decimal(\"C0\")"
      ],
      "metadata": {
        "id": "lJloMjKZ8f_b",
        "outputId": "39848577-e5f6-4c78-871f-0131b0ec4e6a",
        "colab": {
          "base_uri": "https://localhost:8080/"
        }
      },
      "execution_count": 8,
      "outputs": [
        {
          "output_type": "stream",
          "name": "stdout",
          "text": [
            "12\n",
            "2\n",
            "1\n",
            "0\n",
            "2\n",
            "2\n"
          ]
        },
        {
          "output_type": "execute_result",
          "data": {
            "text/plain": [
              "192"
            ]
          },
          "metadata": {},
          "execution_count": 8
        }
      ]
    }
  ]
}