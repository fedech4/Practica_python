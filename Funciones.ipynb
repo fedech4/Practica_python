{
  "nbformat": 4,
  "nbformat_minor": 0,
  "metadata": {
    "colab": {
      "name": "Funciones.ipynb",
      "provenance": [],
      "authorship_tag": "ABX9TyOMRmGDaeni/hWXUlAXSEoz",
      "include_colab_link": true
    },
    "kernelspec": {
      "name": "python3",
      "display_name": "Python 3"
    },
    "language_info": {
      "name": "python"
    }
  },
  "cells": [
    {
      "cell_type": "markdown",
      "metadata": {
        "id": "view-in-github",
        "colab_type": "text"
      },
      "source": [
        "<a href=\"https://colab.research.google.com/github/ksh0t/Practica_python/blob/main/Funciones.ipynb\" target=\"_parent\"><img src=\"https://colab.research.google.com/assets/colab-badge.svg\" alt=\"Open In Colab\"/></a>"
      ]
    },
    {
      "cell_type": "code",
      "execution_count": null,
      "metadata": {
        "colab": {
          "base_uri": "https://localhost:8080/"
        },
        "id": "V0d-XchiOKKy",
        "outputId": "c42cac1d-2038-4817-f249-b3b94759041a"
      },
      "outputs": [
        {
          "output_type": "stream",
          "name": "stdout",
          "text": [
            "escribe un numero100\n",
            "[1, 2, 4, 5, 10, 20, 25, 50]\n"
          ]
        }
      ],
      "source": [
        "#Ejercicio 1\n",
        "\"\"\"\n",
        "Crea una función que busque todos los divisores del número entero positivo dado por parámetro y devuelva\n",
        "una lista con todos los divisores de dicho número.\n",
        "\"\"\"\n",
        "listadivis=[]\n",
        "num1 = int(input((\"escribe un numero\")))\n",
        "\n",
        "def divisores(num1):\n",
        "    listadivis = []\n",
        "    for n in range(1, num1-1):\n",
        "        if num1 % n == 0:\n",
        "            listadivis.append(n)\n",
        "    print(listadivis)\n",
        "\n",
        "divisores(num1)\n",
        "\n",
        "    \n"
      ]
    },
    {
      "cell_type": "code",
      "source": [
        "#ejercicio2\n",
        "\"\"\"\n",
        "Crea una función que dados dos números reales por parámetro, devuelve el mayor.\n",
        "\"\"\"\n",
        "\n",
        "def cualEsMayor(num1, num2):\n",
        "    if num1>num2:\n",
        "        print(num1)\n",
        "    else:\n",
        "        print(num2)\n",
        "\n",
        "cualEsMayor(4,2)"
      ],
      "metadata": {
        "id": "3b5mz2F9Lf2C",
        "outputId": "77c3bba1-278c-4236-f8fe-356dee2a5af8",
        "colab": {
          "base_uri": "https://localhost:8080/"
        }
      },
      "execution_count": null,
      "outputs": [
        {
          "output_type": "stream",
          "name": "stdout",
          "text": [
            "4\n"
          ]
        }
      ]
    },
    {
      "cell_type": "code",
      "source": [
        "#ejercicio 3\n",
        "\"\"\"\n",
        "Crea una función que dado un número devuelva su valor absoluto. Recuerda\n",
        "\"\"\"\n",
        "n1 = int(input(\"dame un nro: \"))\n",
        "\n",
        "def absolut(n):\n",
        "    if n >= 0:\n",
        "        print(n)\n",
        "    else:\n",
        "        print(-n)\n",
        "\n",
        "absolut(n1)"
      ],
      "metadata": {
        "id": "FtuKlZumLidT",
        "outputId": "dab6cf27-c962-4e9a-f1a0-4ad44d8b5824",
        "colab": {
          "base_uri": "https://localhost:8080/"
        }
      },
      "execution_count": null,
      "outputs": [
        {
          "output_type": "stream",
          "name": "stdout",
          "text": [
            "dame un nro: -4\n",
            "4\n"
          ]
        }
      ]
    },
    {
      "cell_type": "code",
      "source": [
        "#ejercicio 4\n",
        "\"\"\"\n",
        "Crea una función que devuelva True si el caracter introducido por parámetro se trata de una vocal y False\n",
        "en caso contrario.\n",
        "\"\"\"\n",
        "\n",
        "car1 = input((\" \"))\n",
        "car1 = car1.lower()\n",
        "\n",
        "def identCar (x):\n",
        "    if x == \"a\" or x == \"e\" or x == \"i\" or x == \"o\" or x == \"u\":\n",
        "        return True\n",
        "    else:\n",
        "        return False\n",
        "\n",
        "print(identCar(car1))"
      ],
      "metadata": {
        "id": "ueSpW0R3Oot_",
        "outputId": "07aef11f-5cbc-4bc8-c056-cc7f7b90424c",
        "colab": {
          "base_uri": "https://localhost:8080/"
        }
      },
      "execution_count": null,
      "outputs": [
        {
          "output_type": "stream",
          "name": "stdout",
          "text": [
            " o\n",
            "True\n"
          ]
        }
      ]
    },
    {
      "cell_type": "code",
      "source": [
        "#ejercicio 5\n",
        "\"\"\"\n",
        "Crea una función que devuelva el MCD (máximo común divisor) de 2 números proporcionados por parámetro.\n",
        "PISTA: Aprovecha la función que calcula el mayor entre dos números dados. También necesitarás una función\n",
        "que calcula el menor entre dos números dados.\n",
        "\"\"\"\n",
        "n1 = int(input(\"dame un numero: \"))\n",
        "n2 = int(input(\"dame un numero: \"))\n",
        "\n",
        "def grande(n1, n2):\n",
        "    if n1 >= n2:\n",
        "        return n1\n",
        "    return n2\n",
        "\n",
        "def chico(n1, n2):\n",
        "    if n1 <= n2:\n",
        "        return n1\n",
        "    return n2\n",
        "\n",
        "def MCD(n1,n2):\n",
        "    r = 0\n",
        "    max = grande(n1, n2)\n",
        "    min = chico(n1,n2)\n",
        "    while min > 0:\n",
        "        r = min\n",
        "        min = max % min\n",
        "        max = r\n",
        "    return max\n",
        "\n",
        "print(MCD(n1,n2))\n"
      ],
      "metadata": {
        "colab": {
          "base_uri": "https://localhost:8080/"
        },
        "id": "byRg3OVwoZbq",
        "outputId": "0fd93c68-93b8-4c5a-e0b1-c557617d1e65"
      },
      "execution_count": 7,
      "outputs": [
        {
          "output_type": "stream",
          "name": "stdout",
          "text": [
            "dame un numero: 40\n",
            "dame un numero: 30\n",
            "10\n"
          ]
        }
      ]
    }
  ]
}