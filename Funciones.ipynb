{
  "nbformat": 4,
  "nbformat_minor": 0,
  "metadata": {
    "colab": {
      "name": "Funciones.ipynb",
      "provenance": [],
      "authorship_tag": "ABX9TyPkBDxx89Jsdi5YsV9qasxZ",
      "include_colab_link": true
    },
    "kernelspec": {
      "name": "python3",
      "display_name": "Python 3"
    },
    "language_info": {
      "name": "python"
    }
  },
  "cells": [
    {
      "cell_type": "markdown",
      "metadata": {
        "id": "view-in-github",
        "colab_type": "text"
      },
      "source": [
        "<a href=\"https://colab.research.google.com/github/ksh0t/Practica_python/blob/main/Funciones.ipynb\" target=\"_parent\"><img src=\"https://colab.research.google.com/assets/colab-badge.svg\" alt=\"Open In Colab\"/></a>"
      ]
    },
    {
      "cell_type": "code",
      "execution_count": 5,
      "metadata": {
        "colab": {
          "base_uri": "https://localhost:8080/"
        },
        "id": "V0d-XchiOKKy",
        "outputId": "c42cac1d-2038-4817-f249-b3b94759041a"
      },
      "outputs": [
        {
          "output_type": "stream",
          "name": "stdout",
          "text": [
            "escribe un numero100\n",
            "[1, 2, 4, 5, 10, 20, 25, 50]\n"
          ]
        }
      ],
      "source": [
        "#Ejercicio 1\n",
        "\"\"\"\n",
        "Crea una función que busque todos los divisores del número entero positivo dado por parámetro y devuelva\n",
        "una lista con todos los divisores de dicho número.\n",
        "\"\"\"\n",
        "listadivis=[]\n",
        "num1 = int(input((\"escribe un numero\")))\n",
        "\n",
        "def divisores(num1):\n",
        "    listadivis = []\n",
        "    for n in range(1, num1-1):\n",
        "        if num1 % n == 0:\n",
        "            listadivis.append(n)\n",
        "    print(listadivis)\n",
        "\n",
        "divisores(num1)\n",
        "\n",
        "    \n"
      ]
    }
  ]
}