{
  "nbformat": 4,
  "nbformat_minor": 0,
  "metadata": {
    "colab": {
      "name": "estructuradedatos_conjuntos.ipynb",
      "provenance": [],
      "authorship_tag": "ABX9TyPSWqQKzQe1g71+e7WyT/fq",
      "include_colab_link": true
    },
    "kernelspec": {
      "name": "python3",
      "display_name": "Python 3"
    },
    "language_info": {
      "name": "python"
    }
  },
  "cells": [
    {
      "cell_type": "markdown",
      "metadata": {
        "id": "view-in-github",
        "colab_type": "text"
      },
      "source": [
        "<a href=\"https://colab.research.google.com/github/ksh0t/Practica_python/blob/main/estructuradedatos_conjuntos.ipynb\" target=\"_parent\"><img src=\"https://colab.research.google.com/assets/colab-badge.svg\" alt=\"Open In Colab\"/></a>"
      ]
    },
    {
      "cell_type": "code",
      "execution_count": null,
      "metadata": {
        "id": "Rz48hquP8Wui",
        "outputId": "cdb98ee1-66d9-461f-b97e-91a2959c6294",
        "colab": {
          "base_uri": "https://localhost:8080/"
        }
      },
      "outputs": [
        {
          "output_type": "stream",
          "name": "stdout",
          "text": [
            "introduce un numero entero: 5\n",
            "{1, 5}\n"
          ]
        }
      ],
      "source": [
        "#ejercicio 1\n",
        "\n",
        "\"\"\"\n",
        "Dado un número entero introducido por teclado, guarda sus divisores en un conjunto y muéstralo.\n",
        "\"\"\"\n",
        "\n",
        "n = int(input(\"introduce un numero entero: \"))\n",
        "\n",
        "if n >= 0:\n",
        "    divisors = set()\n",
        "    for i in range(1, n+1):\n",
        "        if n % i == 0:\n",
        "            divisors.add(i)\n",
        "\n",
        "    \n",
        "    print(divisors)\n",
        "\n",
        "else:\n",
        "    print(\"no has introducido un numero entero\")\n",
        "\n",
        "\n",
        "\n",
        "\n"
      ]
    },
    {
      "cell_type": "code",
      "source": [
        "#ejercicio 2\n",
        "\"\"\"\n",
        "Crea un programa que dado un conjunto, nos devuelva su mínimo. Debes hacerlo sin recurrir a la función\n",
        "min().\n",
        "\"\"\"\n",
        "\n",
        "set1 = set([1, 7, 4, 2, 0])\n",
        "min = 999\n",
        "\n",
        "for item in set1:\n",
        "    if item < min:\n",
        "        min = item\n",
        "\n",
        "print(\"el numero minimo es: {}\".format(min))"
      ],
      "metadata": {
        "id": "DKscmiAkLun9",
        "outputId": "82869630-2f16-43a1-a98d-9fdc1e8efa13",
        "colab": {
          "base_uri": "https://localhost:8080/"
        }
      },
      "execution_count": null,
      "outputs": [
        {
          "output_type": "stream",
          "name": "stdout",
          "text": [
            "el numero minimo es: 0\n"
          ]
        }
      ]
    },
    {
      "cell_type": "code",
      "source": [
        "#ejercicio 3\n",
        "\"\"\"\n",
        "Dada una frase introducida por teclado, guarda en un conjunto todas las palabras que empiecen por la letra\n",
        "indicada por el usuario.\n",
        "\"\"\"\n",
        "s = input(\"frase: \")\n",
        "letter = input(\"letra: \")\n",
        "\n",
        "s = s.lower()\n",
        "letter = letter.lower()\n",
        "words = s.split(\" \")\n",
        "starts_with = set()\n",
        "\n",
        "for w in words:\n",
        "    if w.startswith(letter):\n",
        "        starts_with.add(w)\n",
        "\n",
        "print(starts_with)\n",
        "\n"
      ],
      "metadata": {
        "id": "oW4l48ueJsMO"
      },
      "execution_count": null,
      "outputs": []
    },
    {
      "cell_type": "code",
      "source": [
        "#ejercicio 4\n",
        "\"\"\"\n",
        "Dado un conjunto, crea un programa que nos devuelva el caracter con mayor valor ASCII. Debes hacerlo sin\n",
        "recurrir a la función max()\n",
        "\"\"\"\n",
        "myset = {1, \"a\",\"h\", 0, 7, 4,\"@\", 2, 0}\n",
        "max = -9999\n",
        "\n",
        "for e in myset:\n",
        "    if ord(str(e)) > max:\n",
        "        max = ord(str(e))\n",
        "\n",
        "print(\"el caracter con mayor valor ASCII es: {}\".format(max))"
      ],
      "metadata": {
        "id": "4_x7MiHVMSt0",
        "outputId": "d8e606e6-8fd3-41f2-a152-f599eeb11659",
        "colab": {
          "base_uri": "https://localhost:8080/"
        }
      },
      "execution_count": 3,
      "outputs": [
        {
          "output_type": "stream",
          "name": "stdout",
          "text": [
            "el numero minimo es: 104\n"
          ]
        }
      ]
    },
    {
      "cell_type": "code",
      "source": [
        "#ejercicio 5\n",
        "\"\"\"\n",
        "Dado un conjunto, crea un programa que nos devuelva el caracter con menor valor ASCII. Debes hacerlo sin\n",
        "recurrir a la función min().\n",
        "\"\"\"\n",
        "\n",
        "myset = {1, \"a\",\"h\", 0, 7, 4,\"@\", 2, 0}\n",
        "max = 9999\n",
        "\n",
        "for e in myset:\n",
        "    if ord(str(e)) < max:\n",
        "        max = ord(str(e))\n",
        "\n",
        "print(\"el caracter con mayor valor ASCII es: {}\".format(max))"
      ],
      "metadata": {
        "id": "m01NodlRqOkM",
        "outputId": "d66edecf-caec-4996-8809-5d24cc3ba754",
        "colab": {
          "base_uri": "https://localhost:8080/"
        }
      },
      "execution_count": 5,
      "outputs": [
        {
          "output_type": "stream",
          "name": "stdout",
          "text": [
            "el caracter con mayor valor ASCII es: 48\n"
          ]
        }
      ]
    }
  ]
}