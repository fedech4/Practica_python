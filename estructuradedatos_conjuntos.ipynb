{
  "nbformat": 4,
  "nbformat_minor": 0,
  "metadata": {
    "colab": {
      "name": "estructuradedatos_conjuntos.ipynb",
      "provenance": [],
      "authorship_tag": "ABX9TyPYlG/Wv4Y/57vWNz2Subgu",
      "include_colab_link": true
    },
    "kernelspec": {
      "name": "python3",
      "display_name": "Python 3"
    },
    "language_info": {
      "name": "python"
    }
  },
  "cells": [
    {
      "cell_type": "markdown",
      "metadata": {
        "id": "view-in-github",
        "colab_type": "text"
      },
      "source": [
        "<a href=\"https://colab.research.google.com/github/fedech4/Practica_python/blob/main/estructuradedatos_conjuntos.ipynb\" target=\"_parent\"><img src=\"https://colab.research.google.com/assets/colab-badge.svg\" alt=\"Open In Colab\"/></a>"
      ]
    },
    {
      "cell_type": "code",
      "execution_count": null,
      "metadata": {
        "id": "Rz48hquP8Wui"
      },
      "outputs": [],
      "source": [
        "#ejercicio 1\n",
        "\n",
        "\"\"\"\n",
        "Dado un número entero introducido por teclado, guarda sus divisores en un conjunto y muéstralo.\n",
        "\"\"\"\n",
        "\n",
        "numero = int(input(\"introduce un numero entero: \"))\n",
        "\n"
      ]
    }
  ]
}