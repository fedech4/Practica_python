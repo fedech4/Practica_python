{
  "nbformat": 4,
  "nbformat_minor": 0,
  "metadata": {
    "colab": {
      "name": "estructuradedatos_conjuntos.ipynb",
      "provenance": [],
      "authorship_tag": "ABX9TyNj8YC8VRGTBc6r0fCIuXuk",
      "include_colab_link": true
    },
    "kernelspec": {
      "name": "python3",
      "display_name": "Python 3"
    },
    "language_info": {
      "name": "python"
    }
  },
  "cells": [
    {
      "cell_type": "markdown",
      "metadata": {
        "id": "view-in-github",
        "colab_type": "text"
      },
      "source": [
        "<a href=\"https://colab.research.google.com/github/ksh0t/Practica_python/blob/main/estructuradedatos_conjuntos.ipynb\" target=\"_parent\"><img src=\"https://colab.research.google.com/assets/colab-badge.svg\" alt=\"Open In Colab\"/></a>"
      ]
    },
    {
      "cell_type": "code",
      "execution_count": null,
      "metadata": {
        "id": "Rz48hquP8Wui",
        "outputId": "cdb98ee1-66d9-461f-b97e-91a2959c6294",
        "colab": {
          "base_uri": "https://localhost:8080/"
        }
      },
      "outputs": [
        {
          "output_type": "stream",
          "name": "stdout",
          "text": [
            "introduce un numero entero: 5\n",
            "{1, 5}\n"
          ]
        }
      ],
      "source": [
        "#ejercicio 1\n",
        "\n",
        "\"\"\"\n",
        "Dado un número entero introducido por teclado, guarda sus divisores en un conjunto y muéstralo.\n",
        "\"\"\"\n",
        "\n",
        "n = int(input(\"introduce un numero entero: \"))\n",
        "\n",
        "if n >= 0:\n",
        "    divisors = set()\n",
        "    for i in range(1, n+1):\n",
        "        if n % i == 0:\n",
        "            divisors.add(i)\n",
        "\n",
        "    \n",
        "    print(divisors)\n",
        "\n",
        "else:\n",
        "    print(\"no has introducido un numero entero\")\n",
        "\n",
        "\n",
        "\n",
        "\n"
      ]
    },
    {
      "cell_type": "code",
      "source": [
        "#ejercicio 2\n",
        "\"\"\"\n",
        "Crea un programa que dado un conjunto, nos devuelva su mínimo. Debes hacerlo sin recurrir a la función\n",
        "min().\n",
        "\"\"\"\n",
        "\n",
        "set1 = set([1, 7, 4, 2, 0])\n",
        "min = 999\n",
        "\n",
        "for item in set1:\n",
        "    if item < min:\n",
        "        min = item\n",
        "\n",
        "print(\"el numero minimo es: {}\".format(min))"
      ],
      "metadata": {
        "id": "DKscmiAkLun9",
        "outputId": "82869630-2f16-43a1-a98d-9fdc1e8efa13",
        "colab": {
          "base_uri": "https://localhost:8080/"
        }
      },
      "execution_count": null,
      "outputs": [
        {
          "output_type": "stream",
          "name": "stdout",
          "text": [
            "el numero minimo es: 0\n"
          ]
        }
      ]
    },
    {
      "cell_type": "code",
      "source": [
        "#ejercicio 3\n",
        "\"\"\"\n",
        "Dada una frase introducida por teclado, guarda en un conjunto todas las palabras que empiecen por la letra\n",
        "indicada por el usuario.\n",
        "\"\"\"\n",
        "frase = input()\n",
        "letra = input()\n",
        "set1 = {}\n",
        "frase = frase.lower()\n",
        "letra = letra.lower()\n",
        "palabras = frase.split(\" \")\n",
        "\n",
        "for i in palabras:\n",
        "    if i.set1(letra):\n",
        "        set1.add(i)\n",
        "\n",
        "print(set1)\n"
      ],
      "metadata": {
        "id": "oW4l48ueJsMO",
        "outputId": "c8989e00-38cd-4ff5-bf43-0df6a0952606",
        "colab": {
          "base_uri": "https://localhost:8080/",
          "height": 270
        }
      },
      "execution_count": 7,
      "outputs": [
        {
          "name": "stdout",
          "output_type": "stream",
          "text": [
            "fede fabrica un hacha\n",
            "f\n"
          ]
        },
        {
          "output_type": "error",
          "ename": "AttributeError",
          "evalue": "ignored",
          "traceback": [
            "\u001b[0;31m---------------------------------------------------------------------------\u001b[0m",
            "\u001b[0;31mAttributeError\u001b[0m                            Traceback (most recent call last)",
            "\u001b[0;32m<ipython-input-7-050eba9265ef>\u001b[0m in \u001b[0;36m<module>\u001b[0;34m()\u001b[0m\n\u001b[1;32m     12\u001b[0m \u001b[0;34m\u001b[0m\u001b[0m\n\u001b[1;32m     13\u001b[0m \u001b[0;32mfor\u001b[0m \u001b[0mi\u001b[0m \u001b[0;32min\u001b[0m \u001b[0mpalabras\u001b[0m\u001b[0;34m:\u001b[0m\u001b[0;34m\u001b[0m\u001b[0;34m\u001b[0m\u001b[0m\n\u001b[0;32m---> 14\u001b[0;31m     \u001b[0;32mif\u001b[0m \u001b[0mi\u001b[0m\u001b[0;34m.\u001b[0m\u001b[0mset1\u001b[0m\u001b[0;34m(\u001b[0m\u001b[0mletra\u001b[0m\u001b[0;34m)\u001b[0m\u001b[0;34m:\u001b[0m\u001b[0;34m\u001b[0m\u001b[0;34m\u001b[0m\u001b[0m\n\u001b[0m\u001b[1;32m     15\u001b[0m         \u001b[0mprint\u001b[0m\u001b[0;34m(\u001b[0m\u001b[0mi\u001b[0m\u001b[0;34m.\u001b[0m\u001b[0mset1\u001b[0m\u001b[0;34m(\u001b[0m\u001b[0mletra\u001b[0m\u001b[0;34m)\u001b[0m\u001b[0;34m)\u001b[0m\u001b[0;34m\u001b[0m\u001b[0;34m\u001b[0m\u001b[0m\n\u001b[1;32m     16\u001b[0m         \u001b[0mset1\u001b[0m\u001b[0;34m.\u001b[0m\u001b[0madd\u001b[0m\u001b[0;34m(\u001b[0m\u001b[0mi\u001b[0m\u001b[0;34m)\u001b[0m\u001b[0;34m\u001b[0m\u001b[0;34m\u001b[0m\u001b[0m\n",
            "\u001b[0;31mAttributeError\u001b[0m: 'str' object has no attribute 'set1'"
          ]
        }
      ]
    },
    {
      "cell_type": "code",
      "source": [
        "s = input(\"frase: \")\n",
        "letter = input(\"letra: \")\n",
        "\n",
        "s = s.lower()\n",
        "letter = letter.lower()\n",
        "words = s.split(\" \")\n",
        "starts_with = set()\n",
        "\n",
        "for w in words:\n",
        "    if w.startswith(letter):\n",
        "        starts_with.add(w)\n",
        "\n",
        "print(starts_with)\n",
        "\n"
      ],
      "metadata": {
        "id": "4_x7MiHVMSt0",
        "outputId": "fd75c3b2-62b1-49f5-ef62-25d496e8c06e",
        "colab": {
          "base_uri": "https://localhost:8080/"
        }
      },
      "execution_count": 12,
      "outputs": [
        {
          "output_type": "stream",
          "name": "stdout",
          "text": [
            "frase: fede comio una fruta\n",
            "letra: f\n",
            "{'fede', 'fruta'}\n"
          ]
        }
      ]
    }
  ]
}