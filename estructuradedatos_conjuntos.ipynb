{
  "nbformat": 4,
  "nbformat_minor": 0,
  "metadata": {
    "colab": {
      "name": "estructuradedatos_conjuntos.ipynb",
      "provenance": [],
      "authorship_tag": "ABX9TyMwwR+pSEi04hT8uNuKWgdI",
      "include_colab_link": true
    },
    "kernelspec": {
      "name": "python3",
      "display_name": "Python 3"
    },
    "language_info": {
      "name": "python"
    }
  },
  "cells": [
    {
      "cell_type": "markdown",
      "metadata": {
        "id": "view-in-github",
        "colab_type": "text"
      },
      "source": [
        "<a href=\"https://colab.research.google.com/github/fedech4/Practica_python/blob/main/estructuradedatos_conjuntos.ipynb\" target=\"_parent\"><img src=\"https://colab.research.google.com/assets/colab-badge.svg\" alt=\"Open In Colab\"/></a>"
      ]
    },
    {
      "cell_type": "code",
      "execution_count": null,
      "metadata": {
        "id": "Rz48hquP8Wui",
        "outputId": "cdb98ee1-66d9-461f-b97e-91a2959c6294",
        "colab": {
          "base_uri": "https://localhost:8080/"
        }
      },
      "outputs": [
        {
          "output_type": "stream",
          "name": "stdout",
          "text": [
            "introduce un numero entero: 5\n",
            "{1, 5}\n"
          ]
        }
      ],
      "source": [
        "#ejercicio 1\n",
        "\n",
        "\"\"\"\n",
        "Dado un número entero introducido por teclado, guarda sus divisores en un conjunto y muéstralo.\n",
        "\"\"\"\n",
        "\n",
        "n = int(input(\"introduce un numero entero: \"))\n",
        "\n",
        "if n >= 0:\n",
        "    divisors = set()\n",
        "    for i in range(1, n+1):\n",
        "        if n % i == 0:\n",
        "            divisors.add(i)\n",
        "\n",
        "    \n",
        "    print(divisors)\n",
        "\n",
        "else:\n",
        "    print(\"no has introducido un numero entero\")\n",
        "\n",
        "\n",
        "\n",
        "\n"
      ]
    },
    {
      "cell_type": "code",
      "source": [
        "#ejercicio 2\n",
        "\"\"\"\n",
        "Crea un programa que dado un conjunto, nos devuelva su mínimo. Debes hacerlo sin recurrir a la función\n",
        "min().\n",
        "\"\"\"\n"
      ],
      "metadata": {
        "id": "DKscmiAkLun9"
      },
      "execution_count": null,
      "outputs": []
    }
  ]
}