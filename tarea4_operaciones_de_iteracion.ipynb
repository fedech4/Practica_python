{
  "nbformat": 4,
  "nbformat_minor": 0,
  "metadata": {
    "colab": {
      "name": "tarea4_operaciones_de_iteracion.ipynb",
      "provenance": [],
      "authorship_tag": "ABX9TyPVZhPdanRupV4VAqGDv1d+",
      "include_colab_link": true
    },
    "kernelspec": {
      "name": "python3",
      "display_name": "Python 3"
    },
    "language_info": {
      "name": "python"
    }
  },
  "cells": [
    {
      "cell_type": "markdown",
      "metadata": {
        "id": "view-in-github",
        "colab_type": "text"
      },
      "source": [
        "<a href=\"https://colab.research.google.com/github/fedechavesf/Practica_python/blob/main/tarea4_operaciones_de_iteracion.ipynb\" target=\"_parent\"><img src=\"https://colab.research.google.com/assets/colab-badge.svg\" alt=\"Open In Colab\"/></a>"
      ]
    },
    {
      "cell_type": "code",
      "metadata": {
        "id": "hUrQmMW8tRPR"
      },
      "source": [
        "#ejercicio 1\n",
        "\"\"\"\n",
        "Haz que el usuario introduzca números enteros por teclado. Mientras el usuario no introduzca el 0, muestra\n",
        "si el número introducido es par o impar.\n",
        "\"\"\"\n",
        "\n",
        "introducir_numero = int(input(\"introduce un numero:  \"))\n",
        "\n",
        "while introducir_numero != 0:\n",
        "    if introducir_numero % 2 != 0:\n",
        "        print(\"es impar\")\n",
        "        introducir_numero = int(input(\"introduce un numero:  \"))\n",
        "    else:\n",
        "        print(\"es par\")\n",
        "        introducir_numero = int(input(\"introduce un numero:  \"))\n",
        "else:\n",
        "    print(\"tu numero es 0\")\n",
        "\n"
      ],
      "execution_count": null,
      "outputs": []
    },
    {
      "cell_type": "code",
      "metadata": {
        "colab": {
          "base_uri": "https://localhost:8080/"
        },
        "id": "Pc2cA6XNwcCp",
        "outputId": "ccf8c3a1-2ffb-4ee0-90e4-4d7a8bfb60d6"
      },
      "source": [
        "#ejercicio 2\n",
        "\n",
        "\"\"\"\n",
        "Haz que el usuario introduzca una palabra y una letra por teclado. Comprueba si la palabra contiene la\n",
        "letra o no e indícaselo al usuario por pantalla.\n",
        "\"\"\"\n",
        "\n",
        "introducir_palabra = input(\"introduce una palabra:  \")\n",
        "introducir_letra = input(\"introduce una letra:  \")\n",
        "conteo = 0\n",
        "for i in introducir_palabra:\n",
        "    if i == introducir_letra:\n",
        "        conteo = conteo + 1\n",
        "if conteo != 0:\n",
        "    print(\"tu palabra tiene la letra que buscas, de hecho, aparece {} veces\".format(conteo))\n",
        "else:\n",
        "    print(\"no tiene la letra\")"
      ],
      "execution_count": 13,
      "outputs": [
        {
          "output_type": "stream",
          "name": "stdout",
          "text": [
            "introduce una palabra:  federico\n",
            "introduce una letra:  a\n",
            "no tiene la letra\n"
          ]
        }
      ]
    },
    {
      "cell_type": "code",
      "metadata": {
        "colab": {
          "base_uri": "https://localhost:8080/"
        },
        "id": "BnFDC1vv6roK",
        "outputId": "08ae8e64-5804-42f8-9796-fa2130899daf"
      },
      "source": [
        "#ejercicio 3\n",
        "\n",
        "\"\"\"\n",
        "Haz que el usuario introduzca precios por teclado (si introduce 0, entonces es que ha finalizado). Si el usuario\n",
        "pasa de 200€, entonces ya no debe poder introducir más precios pues se ha pasado de presupuesto. Sea cual\n",
        "sea el resultado (o bien el precio final o bien que no tiene más presupuesto), indícaselo por pantalla al usuario.\n",
        "\"\"\"\n",
        "introducir_precio = int(input(\"introduce un precio:  \"))\n",
        "\n",
        "while introducir_precio != 0:\n",
        "    gasto = 0\n",
        "    gaste = gasto + introducir_precio\n",
        "    introducir_precionuevo = 0\n",
        "    while gaste <= 200:\n",
        "        if gaste <= 199:\n",
        "            print(\"la suma de tu gasto actual es: {}\".format(gaste))\n",
        "            introducir_precio = int(input(\"introduce un precio:  \"))\n",
        "            gaste = gaste + introducir_precio\n",
        "        elif gaste == 200:\n",
        "            print(\"has llegado a tu gasto limite de 200. \\n **************\")\n",
        "            introducir_precio = 0\n",
        "            break\n",
        "        else:\n",
        "            print(\"no se que poner\")\n",
        "            \n",
        "    else:\n",
        "        print(\"has pasado tu gasto limite de 200\")\n",
        "        break\n",
        "else:\n",
        "    print(\"se cerraron tus gastos\")"
      ],
      "execution_count": 26,
      "outputs": [
        {
          "output_type": "stream",
          "name": "stdout",
          "text": [
            "introduce un precio:  178\n",
            "la suma de tu gasto actual es: 178\n",
            "introduce un precio:  9\n",
            "la suma de tu gasto actual es: 187\n",
            "introduce un precio:  9\n",
            "la suma de tu gasto actual es: 196\n",
            "introduce un precio:  3\n",
            "la suma de tu gasto actual es: 199\n",
            "introduce un precio:  1\n",
            "has llegado a tu gasto limite de 200. \n",
            " **************\n",
            "se cerraron tus gastos\n"
          ]
        }
      ]
    },
    {
      "cell_type": "code",
      "metadata": {
        "id": "-9CoxBWGJzgn"
      },
      "source": [
        ""
      ],
      "execution_count": null,
      "outputs": []
    }
  ]
}