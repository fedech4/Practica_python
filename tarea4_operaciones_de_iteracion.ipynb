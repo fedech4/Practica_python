{
  "nbformat": 4,
  "nbformat_minor": 0,
  "metadata": {
    "colab": {
      "name": "tarea4_operaciones_de_iteracion.ipynb",
      "provenance": [],
      "authorship_tag": "ABX9TyOgfqgTBY3RM88tj8P0HjKk",
      "include_colab_link": true
    },
    "kernelspec": {
      "name": "python3",
      "display_name": "Python 3"
    },
    "language_info": {
      "name": "python"
    }
  },
  "cells": [
    {
      "cell_type": "markdown",
      "metadata": {
        "id": "view-in-github",
        "colab_type": "text"
      },
      "source": [
        "<a href=\"https://colab.research.google.com/github/fedechavesf/Practica_python/blob/main/tarea4_operaciones_de_iteracion.ipynb\" target=\"_parent\"><img src=\"https://colab.research.google.com/assets/colab-badge.svg\" alt=\"Open In Colab\"/></a>"
      ]
    },
    {
      "cell_type": "code",
      "metadata": {
        "id": "hUrQmMW8tRPR"
      },
      "source": [
        "#ejercicio 1\n",
        "\"\"\"\n",
        "Haz que el usuario introduzca números enteros por teclado. Mientras el usuario no introduzca el 0, muestra\n",
        "si el número introducido es par o impar.\n",
        "\"\"\"\n",
        "\n",
        "introducir_numero = int(input(\"introduce un numero:  \"))\n",
        "\n",
        "while introducir_numero != 0:\n",
        "    if introducir_numero % 2 != 0:\n",
        "        print(\"es impar\")\n",
        "        introducir_numero = int(input(\"introduce un numero:  \"))\n",
        "    else:\n",
        "        print(\"es par\")\n",
        "        introducir_numero = int(input(\"introduce un numero:  \"))\n",
        "else:\n",
        "    print(\"tu numero es 0\")\n",
        "\n"
      ],
      "execution_count": null,
      "outputs": []
    },
    {
      "cell_type": "code",
      "metadata": {
        "colab": {
          "base_uri": "https://localhost:8080/"
        },
        "id": "Pc2cA6XNwcCp",
        "outputId": "ccf8c3a1-2ffb-4ee0-90e4-4d7a8bfb60d6"
      },
      "source": [
        "#ejercicio 2\n",
        "\n",
        "\"\"\"\n",
        "Haz que el usuario introduzca una palabra y una letra por teclado. Comprueba si la palabra contiene la\n",
        "letra o no e indícaselo al usuario por pantalla.\n",
        "\"\"\"\n",
        "\n",
        "introducir_palabra = input(\"introduce una palabra:  \")\n",
        "introducir_letra = input(\"introduce una letra:  \")\n",
        "conteo = 0\n",
        "for i in introducir_palabra:\n",
        "    if i == introducir_letra:\n",
        "        conteo = conteo + 1\n",
        "if conteo != 0:\n",
        "    print(\"tu palabra tiene la letra que buscas, de hecho, aparece {} veces\".format(conteo))\n",
        "else:\n",
        "    print(\"no tiene la letra\")"
      ],
      "execution_count": null,
      "outputs": [
        {
          "output_type": "stream",
          "name": "stdout",
          "text": [
            "introduce una palabra:  federico\n",
            "introduce una letra:  a\n",
            "no tiene la letra\n"
          ]
        }
      ]
    },
    {
      "cell_type": "code",
      "metadata": {
        "colab": {
          "base_uri": "https://localhost:8080/"
        },
        "id": "BnFDC1vv6roK",
        "outputId": "08ae8e64-5804-42f8-9796-fa2130899daf"
      },
      "source": [
        "#ejercicio 3\n",
        "\n",
        "\"\"\"\n",
        "Haz que el usuario introduzca precios por teclado (si introduce 0, entonces es que ha finalizado). Si el usuario\n",
        "pasa de 200€, entonces ya no debe poder introducir más precios pues se ha pasado de presupuesto. Sea cual\n",
        "sea el resultado (o bien el precio final o bien que no tiene más presupuesto), indícaselo por pantalla al usuario.\n",
        "\"\"\"\n",
        "introducir_precio = int(input(\"introduce un precio:  \"))\n",
        "\n",
        "while introducir_precio != 0:\n",
        "    gasto = 0\n",
        "    gaste = gasto + introducir_precio\n",
        "    introducir_precionuevo = 0\n",
        "    while gaste <= 200:\n",
        "        if gaste <= 199:\n",
        "            print(\"la suma de tu gasto actual es: {}\".format(gaste))\n",
        "            introducir_precio = int(input(\"introduce un precio:  \"))\n",
        "            gaste = gaste + introducir_precio\n",
        "        elif gaste == 200:\n",
        "            print(\"has llegado a tu gasto limite de 200. \\n **************\")\n",
        "            introducir_precio = 0\n",
        "            break\n",
        "        else:\n",
        "            print(\"no se que poner\")\n",
        "            \n",
        "    else:\n",
        "        print(\"has pasado tu gasto limite de 200\")\n",
        "        break\n",
        "else:\n",
        "    print(\"se cerraron tus gastos\")"
      ],
      "execution_count": null,
      "outputs": [
        {
          "output_type": "stream",
          "name": "stdout",
          "text": [
            "introduce un precio:  178\n",
            "la suma de tu gasto actual es: 178\n",
            "introduce un precio:  9\n",
            "la suma de tu gasto actual es: 187\n",
            "introduce un precio:  9\n",
            "la suma de tu gasto actual es: 196\n",
            "introduce un precio:  3\n",
            "la suma de tu gasto actual es: 199\n",
            "introduce un precio:  1\n",
            "has llegado a tu gasto limite de 200. \n",
            " **************\n",
            "se cerraron tus gastos\n"
          ]
        }
      ]
    },
    {
      "cell_type": "code",
      "metadata": {
        "id": "-9CoxBWGJzgn",
        "outputId": "3b5980ff-6c69-427f-cb4d-e6fe78723a36",
        "colab": {
          "base_uri": "https://localhost:8080/"
        }
      },
      "source": [
        "#ejercicio 4\n",
        "\n",
        "\"\"\"\n",
        "Haz que el usuario introduzca números enteros por teclado. Mientras el usuario no introduzca el 0, calcula\n",
        "cuántos números positivos y cuántos negativos ha introducido y muéstraselo al final.\n",
        "\"\"\"\n",
        "\n",
        "numerointro = int(input(\"numero:  \"))\n",
        "\n",
        "positivo=0\n",
        "negativo=0\n",
        "while numerointro != 0:\n",
        "    if numerointro > 0:\n",
        "        positivo += 1\n",
        "        numerointro = int(input(\"numero:  \"))\n",
        "    elif numerointro < 0:\n",
        "        negativo += 1\n",
        "        numerointro = int(input(\"numero:  \"))\n",
        "    else:\n",
        "        print(\"revisar numero\")\n",
        "        break\n",
        "else:\n",
        "    print(\"has salido del programa. insertaste {} numeros positivos y {} numeros negativos\".format(positivo, negativo))"
      ],
      "execution_count": 21,
      "outputs": [
        {
          "output_type": "stream",
          "name": "stdout",
          "text": [
            "numero:  5\n",
            "numero:  4\n",
            "numero:  3\n",
            "numero:  6\n",
            "numero:  -2\n",
            "numero:  -4\n",
            "numero:  0\n",
            "has salido del programa. insertaste 4 numeros positivos y 2 numeros negativos\n"
          ]
        }
      ]
    },
    {
      "cell_type": "code",
      "metadata": {
        "id": "djchN8brO6v9",
        "outputId": "0fb085d7-be43-4e2c-be7c-cac3dd90307d",
        "colab": {
          "base_uri": "https://localhost:8080/"
        }
      },
      "source": [
        "#ejercicio 5\n",
        "\"\"\"\n",
        "Haz que el usuario introduzca números por teclado. Mientras el usuario no introduzca el 0, pídele otro\n",
        "número. Cuando el usuario introduzca el 0, muéstrale la media aritmética de los números que ha introducido.\n",
        "\"\"\"\n",
        "numerointro = int(input(\"numero:  \"))\n",
        "\n",
        "suma=0\n",
        "cantidad=0\n",
        "while numerointro != 0:\n",
        "        cantidad += 1\n",
        "        suma = suma + numerointro\n",
        "        numerointro = int(input(\"numero:  \"))\n",
        "else:\n",
        "    print(\"has salido del programa. la media aritmetica de los numeros que introduciste es {}\".format(suma/cantidad))"
      ],
      "execution_count": 22,
      "outputs": [
        {
          "output_type": "stream",
          "name": "stdout",
          "text": [
            "numero:  5\n",
            "numero:  5\n",
            "numero:  5\n",
            "numero:  0\n",
            "has salido del programa. la media aritmetica de los numeros que introduciste es 5.0\n"
          ]
        }
      ]
    },
    {
      "cell_type": "code",
      "metadata": {
        "id": "cNqy0XAYR_1W",
        "outputId": "a20564fd-67ba-4016-8c6a-8721750d5f0f",
        "colab": {
          "base_uri": "https://localhost:8080/"
        }
      },
      "source": [
        "#ejercicio 6\n",
        "\"\"\"\n",
        "Haz que el usuario introduzca dos números enteros por teclado. El primero será el extremo izquierdo del\n",
        "intervalo y, el segundo, el extremo derecho. Imprime todos los números que se encuentren entre los dos\n",
        "números introducidos por el usuario (los extremos incluidos).\n",
        "\"\"\"\n",
        "\n",
        "numerointrouno = int(input(\"numero:  \"))\n",
        "numerointrodos = int(input(\"numero:  \"))\n",
        "\n",
        "for i in range(numerointrouno, numerointrodos+1):\n",
        "    print(i)"
      ],
      "execution_count": 24,
      "outputs": [
        {
          "output_type": "stream",
          "name": "stdout",
          "text": [
            "numero:  1\n",
            "numero:  9\n",
            "1\n",
            "2\n",
            "3\n",
            "4\n",
            "5\n",
            "6\n",
            "7\n",
            "8\n",
            "9\n"
          ]
        }
      ]
    },
    {
      "cell_type": "code",
      "metadata": {
        "id": "YbJ1bMV3Si5X",
        "outputId": "ed880330-8421-4446-efbf-03528155416a",
        "colab": {
          "base_uri": "https://localhost:8080/"
        }
      },
      "source": [
        "#ejercicio 7\n",
        "\"\"\"\n",
        "Haz que el usuario introduzca dos números enteros por teclado. El primero será el extremo izquierdo del\n",
        "intervalo y, el segundo, el extremo derecho. Imprime la suma de todos los múltiplos de 3 que se encuentren\n",
        "entre los dos números introducidos por el usuario (los extremos incluidos). Finalmente, muestra por pantalla\n",
        "el resultado de la suma.\n",
        "\"\"\"\n",
        "numerointrouno = int(input(\"numero:  \"))\n",
        "numerointrodos = int(input(\"numero:  \"))\n",
        "print(\"A continuación todos los múltiplos de 3 de la selección: \\n*******************\")\n",
        "for i in range(numerointrouno, numerointrodos+1):\n",
        "    if i % 3 == 0:\n",
        "        print(i)\n",
        "print(\"**************** \\nTerminó la función \\n****************\")"
      ],
      "execution_count": 31,
      "outputs": [
        {
          "output_type": "stream",
          "name": "stdout",
          "text": [
            "numero:  1\n",
            "numero:  6\n",
            "A continuación todos los múltiplos de 3 de la selección: \n",
            "*******************\n",
            "3\n",
            "6\n",
            "**************** \n",
            "Terminó la función \n",
            "****************\n"
          ]
        }
      ]
    },
    {
      "cell_type": "code",
      "metadata": {
        "id": "2TlLWSI1Vnx5",
        "outputId": "6767d358-35d8-4d61-ffbf-6daa09ee4054",
        "colab": {
          "base_uri": "https://localhost:8080/"
        }
      },
      "source": [
        "#ejercicio 8\n",
        "\"\"\"\n",
        "Pídele al usuario cuántos números va a introducir. Con un bucle for, solicítale esa cantidad de números y\n",
        "calcula su producto.\n",
        "\"\"\"\n",
        "numerointro= int(input(\"numero:  \"))\n",
        "multi=1\n",
        "\n",
        "for i in range(numerointro):\n",
        "    numerointro2 = int(input(\"numero:  \"))\n",
        "    multi = multi * numerointro2\n",
        "print(\"el producto de los numeros ingresados es: {}\".format(multi))\n",
        "\n"
      ],
      "execution_count": 36,
      "outputs": [
        {
          "output_type": "stream",
          "name": "stdout",
          "text": [
            "numero:  3\n",
            "numero:  5\n",
            "numero:  1\n",
            "numero:  5\n",
            "el producto de los numeros ingresados es: 25\n"
          ]
        }
      ]
    },
    {
      "cell_type": "code",
      "metadata": {
        "id": "u9YOEf58XbTH",
        "outputId": "9249fac4-03a1-45e7-9bff-017fdb1f684c",
        "colab": {
          "base_uri": "https://localhost:8080/"
        }
      },
      "source": [
        "#ejercicio 9\n",
        "\"\"\"\n",
        "Haz que el usuario introduzca su edad y el año actual. Imprime todos los años que han pasado desde su año\n",
        "de nacimiento hasta el año actual (ambos incluidos).\n",
        "\"\"\"\n",
        "numerointrouno = int(input(\"edad:  \"))\n",
        "numerointrodos = int(input(\"año actual:  \"))\n",
        "\n",
        "for i in range(numerointrodos-numerointrouno,numerointrodos+1):\n",
        "    print(i)"
      ],
      "execution_count": 39,
      "outputs": [
        {
          "output_type": "stream",
          "name": "stdout",
          "text": [
            "edad:  29\n",
            "año actual:  2021\n",
            "1992\n",
            "1993\n",
            "1994\n",
            "1995\n",
            "1996\n",
            "1997\n",
            "1998\n",
            "1999\n",
            "2000\n",
            "2001\n",
            "2002\n",
            "2003\n",
            "2004\n",
            "2005\n",
            "2006\n",
            "2007\n",
            "2008\n",
            "2009\n",
            "2010\n",
            "2011\n",
            "2012\n",
            "2013\n",
            "2014\n",
            "2015\n",
            "2016\n",
            "2017\n",
            "2018\n",
            "2019\n",
            "2020\n",
            "2021\n"
          ]
        }
      ]
    },
    {
      "cell_type": "code",
      "metadata": {
        "id": "6drahFMJYK6V",
        "outputId": "436ec0b9-b3ae-4a10-c921-d50407039ff4",
        "colab": {
          "base_uri": "https://localhost:8080/"
        }
      },
      "source": [
        "#ejercicio 10 \n",
        "\"\"\"\n",
        "Haz que el usuario introduzca un número entero. Muestra un cuadrado y luego un triángulo rectángulo de\n",
        "lado y altura, respectivamente, el número entero introducido. Por ejemplo, si el usuario introduce como\n",
        "número 5, se deberá mostrar:\n",
        "\"\"\"\n",
        "numerointro = int(input(\"introduce un numero: \"))\n",
        "\n",
        "for i in range(numerointro):\n",
        "    print(\"* \" * (i+1) + (\" \" * (15 - (2 * i + 2)) + (\"* \"*numerointro)))  \n",
        "\n",
        "\n"
      ],
      "execution_count": 74,
      "outputs": [
        {
          "output_type": "stream",
          "name": "stdout",
          "text": [
            "introduce un numero: 5\n",
            "*              * * * * * \n",
            "* *            * * * * * \n",
            "* * *          * * * * * \n",
            "* * * *        * * * * * \n",
            "* * * * *      * * * * * \n"
          ]
        }
      ]
    },
    {
      "cell_type": "code",
      "metadata": {
        "id": "NOak0PUEe1M9",
        "outputId": "dbbfe8b9-a059-4eff-d0e9-3b68510a44ee",
        "colab": {
          "base_uri": "https://localhost:8080/"
        }
      },
      "source": [
        "for i in range(5):\n",
        "    print(i)"
      ],
      "execution_count": 62,
      "outputs": [
        {
          "output_type": "stream",
          "name": "stdout",
          "text": [
            "0\n",
            "1\n",
            "2\n",
            "3\n",
            "4\n"
          ]
        }
      ]
    },
    {
      "cell_type": "code",
      "metadata": {
        "id": "nfC-0qL7ckuv",
        "outputId": "f427e654-56ff-4c59-e123-a59c7ba21916",
        "colab": {
          "base_uri": "https://localhost:8080/"
        }
      },
      "source": [
        "num = int(input(\"Introduce un número: \"))\n",
        "\n",
        "for i in range(num):\n",
        "    print(\"* \" * (i + 1) + \" \" * (20 - (2 * i + 2) + \"* \" * num )"
      ],
      "execution_count": 64,
      "outputs": [
        {
          "output_type": "stream",
          "name": "stdout",
          "text": [
            "Introduce un número: 3\n",
            "*                   * * * \n",
            "* *                 * * * \n",
            "* * *               * * * \n"
          ]
        }
      ]
    }
  ]
}