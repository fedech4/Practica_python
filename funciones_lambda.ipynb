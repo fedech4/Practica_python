{
  "nbformat": 4,
  "nbformat_minor": 0,
  "metadata": {
    "colab": {
      "name": "funciones_lambda.ipynb",
      "provenance": [],
      "authorship_tag": "ABX9TyNrHupnrx+HEzDWDd2ln5Da",
      "include_colab_link": true
    },
    "kernelspec": {
      "name": "python3",
      "display_name": "Python 3"
    },
    "language_info": {
      "name": "python"
    }
  },
  "cells": [
    {
      "cell_type": "markdown",
      "metadata": {
        "id": "view-in-github",
        "colab_type": "text"
      },
      "source": [
        "<a href=\"https://colab.research.google.com/github/fedechaves/Practica_python/blob/main/funciones_lambda.ipynb\" target=\"_parent\"><img src=\"https://colab.research.google.com/assets/colab-badge.svg\" alt=\"Open In Colab\"/></a>"
      ]
    },
    {
      "cell_type": "code",
      "execution_count": null,
      "metadata": {
        "id": "5kHWg7Zizmi5"
      },
      "outputs": [],
      "source": [
        "#ejercicio 1\n",
        "\"\"\"\n",
        "Crea una función lambda que dado un número entero multiplique por su anterior y su siguiente. Por ejemplo,\n",
        "si proporcionamos n = 3, nos tendrá que devolver 2 · 3 · 4 = 24.\"\n",
        "\"\"\""
      ]
    }
  ]
}