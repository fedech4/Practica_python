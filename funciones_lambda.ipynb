{
  "nbformat": 4,
  "nbformat_minor": 0,
  "metadata": {
    "colab": {
      "name": "funciones_lambda.ipynb",
      "provenance": [],
      "authorship_tag": "ABX9TyNhc/6QPB8idx/913Rl4iGQ",
      "include_colab_link": true
    },
    "kernelspec": {
      "name": "python3",
      "display_name": "Python 3"
    },
    "language_info": {
      "name": "python"
    }
  },
  "cells": [
    {
      "cell_type": "markdown",
      "metadata": {
        "id": "view-in-github",
        "colab_type": "text"
      },
      "source": [
        "<a href=\"https://colab.research.google.com/github/fedechaves/Practica_python/blob/main/funciones_lambda.ipynb\" target=\"_parent\"><img src=\"https://colab.research.google.com/assets/colab-badge.svg\" alt=\"Open In Colab\"/></a>"
      ]
    },
    {
      "cell_type": "code",
      "execution_count": null,
      "metadata": {
        "id": "5kHWg7Zizmi5",
        "outputId": "a20cc3e1-5c56-41b2-c03a-58f205298121",
        "colab": {
          "base_uri": "https://localhost:8080/"
        }
      },
      "outputs": [
        {
          "output_type": "stream",
          "name": "stdout",
          "text": [
            "24\n"
          ]
        }
      ],
      "source": [
        "#ejercicio 1 - funciones lambda\n",
        "\"\"\"\n",
        "Crea una función lambda que dado un número entero multiplique por su anterior y su siguiente. Por ejemplo,\n",
        "si proporcionamos n = 3, nos tendrá que devolver 2 · 3 · 4 = 24.\"\n",
        "\"\"\"\n",
        "\n",
        "multiplier = lambda x : x * ( x + 1) * ( x - 1)\n",
        "\n",
        "print(multiplier(3))"
      ]
    },
    {
      "cell_type": "code",
      "source": [
        "#ejercicio 2 - \n",
        "\"\"\"\n",
        "Crea una función lambda que dados dos números devuelva si el primero es mayor.\n",
        "\"\"\"\n",
        "maso = lambda x,y : \"es mayor\" if x > y else \"no es mayor\"\n",
        "\n",
        "print(maso(5,4))"
      ],
      "metadata": {
        "id": "4cfiJIf6cLvK",
        "outputId": "537d2eb1-6221-4db6-b88e-029ee5a35c81",
        "colab": {
          "base_uri": "https://localhost:8080/"
        }
      },
      "execution_count": null,
      "outputs": [
        {
          "output_type": "stream",
          "name": "stdout",
          "text": [
            "es mayor\n"
          ]
        }
      ]
    },
    {
      "cell_type": "code",
      "source": [
        "#ejercicio 3\n",
        "\"\"\"\n",
        "Dada una lista de palabras, quédate con filter() con las que tengan más vocales que consonantes. Necesitarás una función que devuelva si una palabra tiene más vocales que consonantes.\n",
        "\"\"\"\n",
        "listapala = ['federick', 'manzana', 'sandalia', 'viaje']\n",
        "def vocalsovercons(palabra):\n",
        "    palabraL = palabra.lower()\n",
        "    vocales = 0\n",
        "    cons = 0\n",
        "    for i in palabra:\n",
        "        if i == \"a\" or i == \"e\" or i== \"i\" or i=='o' or i == 'u':\n",
        "            vocales += 1\n",
        "        else:\n",
        "            cons +=1\n",
        "    return vocales > cons\n",
        "\n",
        "list(filter(vocalsovercons, listapala))"
      ],
      "metadata": {
        "id": "DOl14YJ9jy_t",
        "outputId": "210fe887-0085-4301-dbb9-ec26a915cc04",
        "colab": {
          "base_uri": "https://localhost:8080/"
        }
      },
      "execution_count": null,
      "outputs": [
        {
          "output_type": "execute_result",
          "data": {
            "text/plain": [
              "['viaje']"
            ]
          },
          "metadata": {},
          "execution_count": 4
        }
      ]
    },
    {
      "cell_type": "code",
      "source": [
        "#ejercicio 4\n",
        "\"\"\"\n",
        "Dada una lista de números enteros, quédate con filter() con los que tengan más de 5 divisores. Necesitarás\n",
        "una función que devuelva el número de divisores de un número dado.\n",
        "\"\"\"\n",
        "\n",
        "def divis(x):\n",
        "    x = int(x)\n",
        "    if x > 0:\n",
        "        listadivi = []\n",
        "        for i in range(1, x-1):\n",
        "            if x % i == 0:\n",
        "                listadivi.append(i)\n",
        "        return len(listadivi)\n",
        "\n",
        "listaADividir = [10, 20, 25, 60]\n",
        "\n",
        "list(filter(lambda n : divis(n) > 5,listaADividir))"
      ],
      "metadata": {
        "id": "OvnkWQjXlYck",
        "outputId": "52370f7e-be07-4a49-9976-e07c4a7adc5b",
        "colab": {
          "base_uri": "https://localhost:8080/"
        }
      },
      "execution_count": 5,
      "outputs": [
        {
          "output_type": "execute_result",
          "data": {
            "text/plain": [
              "[60]"
            ]
          },
          "metadata": {},
          "execution_count": 5
        }
      ]
    }
  ]
}