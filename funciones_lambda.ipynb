{
  "nbformat": 4,
  "nbformat_minor": 0,
  "metadata": {
    "colab": {
      "name": "funciones_lambda.ipynb",
      "provenance": [],
      "authorship_tag": "ABX9TyNr1viObqH9xSsKZEADyslB",
      "include_colab_link": true
    },
    "kernelspec": {
      "name": "python3",
      "display_name": "Python 3"
    },
    "language_info": {
      "name": "python"
    }
  },
  "cells": [
    {
      "cell_type": "markdown",
      "metadata": {
        "id": "view-in-github",
        "colab_type": "text"
      },
      "source": [
        "<a href=\"https://colab.research.google.com/github/fedechaves/Practica_python/blob/main/funciones_lambda.ipynb\" target=\"_parent\"><img src=\"https://colab.research.google.com/assets/colab-badge.svg\" alt=\"Open In Colab\"/></a>"
      ]
    },
    {
      "cell_type": "code",
      "execution_count": 4,
      "metadata": {
        "id": "5kHWg7Zizmi5",
        "outputId": "a20cc3e1-5c56-41b2-c03a-58f205298121",
        "colab": {
          "base_uri": "https://localhost:8080/"
        }
      },
      "outputs": [
        {
          "output_type": "stream",
          "name": "stdout",
          "text": [
            "24\n"
          ]
        }
      ],
      "source": [
        "#ejercicio 1 - funciones lambda\n",
        "\"\"\"\n",
        "Crea una función lambda que dado un número entero multiplique por su anterior y su siguiente. Por ejemplo,\n",
        "si proporcionamos n = 3, nos tendrá que devolver 2 · 3 · 4 = 24.\"\n",
        "\"\"\"\n",
        "\n",
        "multiplier = lambda x : x * ( x + 1) * ( x - 1)\n",
        "\n",
        "print(multiplier(3))"
      ]
    },
    {
      "cell_type": "code",
      "source": [
        "#ejercicio 2 - \n",
        "\"\"\"\n",
        "Crea una función lambda que dados dos números devuelva si el primero es mayor.\n",
        "\"\"\"\n",
        "maso = lambda x,y : \"es mayor\" if x > y else \"no es mayor\"\n",
        "\n",
        "print(maso(5,4))"
      ],
      "metadata": {
        "id": "4cfiJIf6cLvK",
        "outputId": "537d2eb1-6221-4db6-b88e-029ee5a35c81",
        "colab": {
          "base_uri": "https://localhost:8080/"
        }
      },
      "execution_count": 10,
      "outputs": [
        {
          "output_type": "stream",
          "name": "stdout",
          "text": [
            "es mayor\n"
          ]
        }
      ]
    }
  ]
}