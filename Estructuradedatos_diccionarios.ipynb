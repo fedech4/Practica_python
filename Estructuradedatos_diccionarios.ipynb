{
  "nbformat": 4,
  "nbformat_minor": 0,
  "metadata": {
    "colab": {
      "name": "Estructuradedatos_diccionarios.ipynb",
      "provenance": [],
      "authorship_tag": "ABX9TyNxWek6HtLRScdWVX78rAxr",
      "include_colab_link": true
    },
    "kernelspec": {
      "name": "python3",
      "display_name": "Python 3"
    },
    "language_info": {
      "name": "python"
    }
  },
  "cells": [
    {
      "cell_type": "markdown",
      "metadata": {
        "id": "view-in-github",
        "colab_type": "text"
      },
      "source": [
        "<a href=\"https://colab.research.google.com/github/fedechavesf/Practica_python/blob/main/Estructuradedatos_diccionarios.ipynb\" target=\"_parent\"><img src=\"https://colab.research.google.com/assets/colab-badge.svg\" alt=\"Open In Colab\"/></a>"
      ]
    },
    {
      "cell_type": "code",
      "execution_count": null,
      "metadata": {
        "id": "-fxhDljAG7T2"
      },
      "outputs": [],
      "source": [
        "#ejercicio 1\n",
        "\"\"\"\n",
        "Crea un programa que pida un número entero positivo por teclado y que cree un diccionario cuyas claves\n",
        "sean desde el número 1 hasta el número indicado. Los valores de cada clave serán las propias claves elevadas\n",
        "al cubo.\n",
        "\"\"\" \n",
        "\n"
      ]
    }
  ]
}