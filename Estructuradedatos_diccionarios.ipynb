{
  "nbformat": 4,
  "nbformat_minor": 0,
  "metadata": {
    "colab": {
      "name": "Estructuradedatos_diccionarios.ipynb",
      "provenance": [],
      "authorship_tag": "ABX9TyNmwyJo/00KS/Ecvj4sFYzR",
      "include_colab_link": true
    },
    "kernelspec": {
      "name": "python3",
      "display_name": "Python 3"
    },
    "language_info": {
      "name": "python"
    }
  },
  "cells": [
    {
      "cell_type": "markdown",
      "metadata": {
        "id": "view-in-github",
        "colab_type": "text"
      },
      "source": [
        "<a href=\"https://colab.research.google.com/github/fedechavesf/Practica_python/blob/main/Estructuradedatos_diccionarios.ipynb\" target=\"_parent\"><img src=\"https://colab.research.google.com/assets/colab-badge.svg\" alt=\"Open In Colab\"/></a>"
      ]
    },
    {
      "cell_type": "code",
      "execution_count": null,
      "metadata": {
        "id": "-fxhDljAG7T2",
        "outputId": "e091db85-a566-44dd-dc38-9ff075d13751",
        "colab": {
          "base_uri": "https://localhost:8080/"
        }
      },
      "outputs": [
        {
          "output_type": "stream",
          "name": "stdout",
          "text": [
            "escribe un numero entero: 10\n",
            "{1: 1, 2: 8, 3: 27, 4: 64, 5: 125, 6: 216, 7: 343, 8: 512, 9: 729, 10: 1000}\n"
          ]
        }
      ],
      "source": [
        "#ejercicio 1\n",
        "\"\"\"\n",
        "Crea un programa que pida un número entero positivo por teclado y que cree un diccionario cuyas claves\n",
        "sean desde el número 1 hasta el número indicado. Los valores de cada clave serán las propias claves elevadas\n",
        "al cubo.\n",
        "\"\"\" \n",
        "\n",
        "numero = int(input(\"escribe un numero entero: \"))\n",
        "\n",
        "dicc = {}\n",
        "\n",
        "for i in range(1,numero+1):\n",
        "    dicc[i] = i**3\n",
        "print(dicc)"
      ]
    },
    {
      "cell_type": "code",
      "source": [
        "#ejercicio 2\n",
        "\"\"\"\n",
        "Escribe un programa que pregunte al usuario su nombre, edad y teléfono y lo guarde en un diccionario.\n",
        "Después, debe mostrar por pantalla el mensaje ‘{nombre} tiene {edad} años y su número de teléfono es\n",
        "{teléfono}.\n",
        "\"\"\"\n",
        "dicc = {}\n",
        "\n",
        "print(\"cual es tu nombre\")\n",
        "dicc[\"nombre\"] = (input())\n",
        "print(\"edad: \")\n",
        "dicc[\"edad\"] = int(input())\n",
        "print(\"numero: \")\n",
        "dicc[\"numero\"] = (input())\n",
        "\n",
        "print(dicc)"
      ],
      "metadata": {
        "id": "agB0aQrIIUXN",
        "outputId": "58fcb9e3-4f34-4aca-8d57-e7eb2e3742cd",
        "colab": {
          "base_uri": "https://localhost:8080/"
        }
      },
      "execution_count": null,
      "outputs": [
        {
          "output_type": "stream",
          "name": "stdout",
          "text": [
            "cual es tu nombre\n",
            "fede\n",
            "edad: \n",
            "29\n",
            "numero: \n",
            "091332\n",
            "{'nombre': 'fede', 'edad': 29, 'numero': '091332'}\n"
          ]
        }
      ]
    },
    {
      "cell_type": "code",
      "source": [
        "#ejercicio 3\n",
        "\"\"\"\n",
        "Escribe un programa que cree un diccionario simulando una cesta de la compra. El programa debe preguntar\n",
        "el artículo y su precio por unidad. El artículo será la clave y el valor el precio, hasta que el usuario decida\n",
        "terminar. Después se debe mostrar por pantalla la lista de la compra y el coste total, con el siguiente formato\n",
        "Artículo 1      Precio\n",
        "Artículo 2      Precio\n",
        "Artículo 3      Precio\n",
        ". . . . . .\n",
        "Total Precio Total\n",
        "\"\"\"\n",
        "\n",
        "cesta = {}\n",
        "clave = input(\"que desea comprar\")\n",
        "total = 0\n",
        "3\n",
        "\n",
        "while clave != \"\":\n",
        "    cesta[clave] = float(input(\"indica el precio: \"))\n",
        "    clave = input(\"indica el articulo: \")\n",
        "\n",
        "print(\"\")\n",
        "for clave, val in cesta.items():\n",
        "    print(\"l\" + \" \" * (10 - 2 - len(clave)) + clave + \"    l   \" +str(val) + \" \" * (9-len(str(val))) + \"l\")"
      ],
      "metadata": {
        "id": "0j3fI1wX8cFu",
        "outputId": "6bed4f00-c63d-4c18-b866-790bc584909e",
        "colab": {
          "base_uri": "https://localhost:8080/"
        }
      },
      "execution_count": null,
      "outputs": [
        {
          "output_type": "stream",
          "name": "stdout",
          "text": [
            "que desea comprar3\n",
            "indica el precio: 4\n",
            "indica el articulo: \n",
            "\n",
            "l       3    l   4.0      l\n"
          ]
        }
      ]
    },
    {
      "cell_type": "code",
      "source": [
        "#ejercicio 4\n",
        "\"\"\"\n",
        "Crea un programa que lea números enteros hasta que introduzca el 0 y devuelva un diccionario con la\n",
        "cantidad números positivos y negativos introducidos.\n",
        "\"\"\"\n",
        "\n",
        "n = int(input(\"introduce un umero entero: \"))\n",
        "pos = 0\n",
        "total = 0\n",
        "\n",
        "while n != 0:\n",
        "    if n > 0:\n",
        "        pos += 1\n",
        "    total +=1\n",
        "    n = int(input(\"introduce un numero entero: \"))\n",
        "\n",
        "nums = {\"positive\":pos, \"negative\": total-pos}\n",
        "print(nums)\n"
      ],
      "metadata": {
        "id": "g9xj9hhqrLGK",
        "outputId": "ec1a1fe3-cd7f-478f-d80c-fc4ddc0db21d",
        "colab": {
          "base_uri": "https://localhost:8080/"
        }
      },
      "execution_count": null,
      "outputs": [
        {
          "output_type": "stream",
          "name": "stdout",
          "text": [
            "introduce un umero entero: 4\n",
            "introduce un numero entero: 4\n",
            "introduce un numero entero: 5\n",
            "introduce un numero entero: 0\n",
            "{'positive': 3, 'negative': 0}\n"
          ]
        }
      ]
    },
    {
      "cell_type": "code",
      "source": [
        "#ejercicio 5\n",
        "\"\"\"\n",
        "Crea un programa que lea números enteros hasta que introduzca el 0 y devuelva un diccionario con la\n",
        "cantidad números pares e impares introducidos.\n",
        "\"\"\"\n",
        "\n",
        "n = int(input(\"introduce un umero entero: \"))\n",
        "par = 0\n",
        "impar = 0\n",
        "total = 0\n",
        "\n",
        "while n != 0:\n",
        "    if n % 2 == 0:\n",
        "        par += 1\n",
        "    total +=1\n",
        "    n = int(input(\"introduce un numero entero: \"))\n",
        "\n",
        "nums = {\"par\":par, \"impar\": total-par}\n",
        "print(nums)"
      ],
      "metadata": {
        "id": "BCNyIapAaLin",
        "outputId": "8882bc9c-8718-4ad1-f824-911f6aa91474",
        "colab": {
          "base_uri": "https://localhost:8080/"
        }
      },
      "execution_count": null,
      "outputs": [
        {
          "output_type": "stream",
          "name": "stdout",
          "text": [
            "introduce un umero entero: 4\n",
            "introduce un numero entero: 4\n",
            "introduce un numero entero: 2\n",
            "introduce un numero entero: 1\n",
            "introduce un numero entero: 0\n",
            "{'par': 3, 'impar': 1}\n"
          ]
        }
      ]
    },
    {
      "cell_type": "code",
      "source": [
        "#ejercicio 6\n",
        "\"\"\"\n",
        "Crea un programa que permita al usuario introducir los nombres de los alumnos de una clase y las notas que\n",
        "han obtenido. Cada alumno puede tener distinta cantidad de notas. Guarda la información en un diccionario\n",
        "cuyas claves serán los nombres de los alumnos y los valores serán listas con las notas de cada alumno.\n",
        "\n",
        "El programa va a pedir el nombre de un estudiante e irá pidiendo sus notas (del 1 al 10) hasta que introduzcamos un 0. Al final, cuando el nombre que introduzcamos sea un string vacío, el programa nos mostrará la\n",
        "lista de alumnos y la nota media obtenida por cada uno de ellos.\n",
        "PISTA: Vas a necesitar la función sum().\n",
        "\"\"\"\n",
        "\n",
        "calif = {}\n",
        "clave = input(\"nombre del alumno: \")\n",
        "\n",
        "while clave != \"\":\n",
        "    calif[clave] = []\n",
        "    grade = int(input(\"introduce las notas una a una\"))\n",
        "    while grade != 0:\n",
        "        calif[clave].append(grade)\n",
        "        grade = int(input())\n",
        "    clave = input(\"nombre del alumno: \")\n",
        "\n",
        "for alumno in calif:\n",
        "    print(alumno, sum(calif[alumno])/len(calif[alumno]))\n",
        "\n"
      ],
      "metadata": {
        "id": "73sGAyAcsHht",
        "outputId": "eff3509f-8d66-4760-eaf7-45d2b16e4f3e",
        "colab": {
          "base_uri": "https://localhost:8080/"
        }
      },
      "execution_count": null,
      "outputs": [
        {
          "output_type": "stream",
          "name": "stdout",
          "text": [
            "nombre del alumno: federico\n",
            "introduce las notas una a una3\n",
            "4\n",
            "5\n",
            "6\n",
            "7\n",
            "7\n",
            "6\n",
            "0\n",
            "nombre del alumno: tomas\n",
            "introduce las notas una a una4\n",
            "5\n",
            "6\n",
            "0\n",
            "nombre del alumno: \n",
            "federico 5.428571428571429\n",
            "tomas 5.0\n"
          ]
        }
      ]
    },
    {
      "cell_type": "code",
      "source": [
        "#ejercicio 7\n",
        "\"\"\"\n",
        "Crea un programa que pida un número entero positivo por teclado y que cree un diccionario cuyas claves\n",
        "sean desde el número 1 hasta el número indicado. Los valores de cada clave serán tantos símbolos \"*\" como\n",
        "indique la clave.\n",
        "\"\"\"\n",
        "num1 = int(input(\"introduzca un nro: \"))\n",
        "diqui = {}\n",
        "\n",
        "for i in range(1, num1+1):\n",
        "    diqui[i]= \"*\" * i\n",
        "\n",
        "print(diqui)\n"
      ],
      "metadata": {
        "id": "WMozOhx9X2HQ",
        "outputId": "bee8a917-f9a8-486a-de24-b5e59d823996",
        "colab": {
          "base_uri": "https://localhost:8080/"
        }
      },
      "execution_count": 4,
      "outputs": [
        {
          "output_type": "stream",
          "name": "stdout",
          "text": [
            "introduzca un nro: 5\n",
            "{'*': 1, '**': 2, '***': 3, '****': 4, '*****': 5}\n"
          ]
        }
      ]
    }
  ]
}