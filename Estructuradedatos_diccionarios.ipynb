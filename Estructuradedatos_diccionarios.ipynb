{
  "nbformat": 4,
  "nbformat_minor": 0,
  "metadata": {
    "colab": {
      "name": "Estructuradedatos_diccionarios.ipynb",
      "provenance": [],
      "authorship_tag": "ABX9TyM1B+yGo6R5ppSoUdVFcXB4",
      "include_colab_link": true
    },
    "kernelspec": {
      "name": "python3",
      "display_name": "Python 3"
    },
    "language_info": {
      "name": "python"
    }
  },
  "cells": [
    {
      "cell_type": "markdown",
      "metadata": {
        "id": "view-in-github",
        "colab_type": "text"
      },
      "source": [
        "<a href=\"https://colab.research.google.com/github/fedechavesf/Practica_python/blob/main/Estructuradedatos_diccionarios.ipynb\" target=\"_parent\"><img src=\"https://colab.research.google.com/assets/colab-badge.svg\" alt=\"Open In Colab\"/></a>"
      ]
    },
    {
      "cell_type": "code",
      "execution_count": 2,
      "metadata": {
        "id": "-fxhDljAG7T2",
        "outputId": "e091db85-a566-44dd-dc38-9ff075d13751",
        "colab": {
          "base_uri": "https://localhost:8080/"
        }
      },
      "outputs": [
        {
          "output_type": "stream",
          "name": "stdout",
          "text": [
            "escribe un numero entero: 10\n",
            "{1: 1, 2: 8, 3: 27, 4: 64, 5: 125, 6: 216, 7: 343, 8: 512, 9: 729, 10: 1000}\n"
          ]
        }
      ],
      "source": [
        "#ejercicio 1\n",
        "\"\"\"\n",
        "Crea un programa que pida un número entero positivo por teclado y que cree un diccionario cuyas claves\n",
        "sean desde el número 1 hasta el número indicado. Los valores de cada clave serán las propias claves elevadas\n",
        "al cubo.\n",
        "\"\"\" \n",
        "\n",
        "numero = int(input(\"escribe un numero entero: \"))\n",
        "\n",
        "dicc = {}\n",
        "\n",
        "for i in range(1,numero+1):\n",
        "    dicc[i] = i**3\n",
        "print(dicc)"
      ]
    }
  ]
}