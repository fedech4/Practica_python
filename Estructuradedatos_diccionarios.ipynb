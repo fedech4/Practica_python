{
  "nbformat": 4,
  "nbformat_minor": 0,
  "metadata": {
    "colab": {
      "name": "Estructuradedatos_diccionarios.ipynb",
      "provenance": [],
      "authorship_tag": "ABX9TyOcw2GPQEnr84e8P9yHBkde",
      "include_colab_link": true
    },
    "kernelspec": {
      "name": "python3",
      "display_name": "Python 3"
    },
    "language_info": {
      "name": "python"
    }
  },
  "cells": [
    {
      "cell_type": "markdown",
      "metadata": {
        "id": "view-in-github",
        "colab_type": "text"
      },
      "source": [
        "<a href=\"https://colab.research.google.com/github/fedechavesf/Practica_python/blob/main/Estructuradedatos_diccionarios.ipynb\" target=\"_parent\"><img src=\"https://colab.research.google.com/assets/colab-badge.svg\" alt=\"Open In Colab\"/></a>"
      ]
    },
    {
      "cell_type": "code",
      "execution_count": null,
      "metadata": {
        "id": "-fxhDljAG7T2",
        "outputId": "e091db85-a566-44dd-dc38-9ff075d13751",
        "colab": {
          "base_uri": "https://localhost:8080/"
        }
      },
      "outputs": [
        {
          "output_type": "stream",
          "name": "stdout",
          "text": [
            "escribe un numero entero: 10\n",
            "{1: 1, 2: 8, 3: 27, 4: 64, 5: 125, 6: 216, 7: 343, 8: 512, 9: 729, 10: 1000}\n"
          ]
        }
      ],
      "source": [
        "#ejercicio 1\n",
        "\"\"\"\n",
        "Crea un programa que pida un número entero positivo por teclado y que cree un diccionario cuyas claves\n",
        "sean desde el número 1 hasta el número indicado. Los valores de cada clave serán las propias claves elevadas\n",
        "al cubo.\n",
        "\"\"\" \n",
        "\n",
        "numero = int(input(\"escribe un numero entero: \"))\n",
        "\n",
        "dicc = {}\n",
        "\n",
        "for i in range(1,numero+1):\n",
        "    dicc[i] = i**3\n",
        "print(dicc)"
      ]
    },
    {
      "cell_type": "code",
      "source": [
        "#ejercicio 2\n",
        "\"\"\"\n",
        "Escribe un programa que pregunte al usuario su nombre, edad y teléfono y lo guarde en un diccionario.\n",
        "Después, debe mostrar por pantalla el mensaje ‘{nombre} tiene {edad} años y su número de teléfono es\n",
        "{teléfono}.\n",
        "\"\"\"\n",
        "dicc = {}\n",
        "\n",
        "print(\"cual es tu nombre\")\n",
        "dicc[\"nombre\"] = (input())\n",
        "print(\"edad: \")\n",
        "dicc[\"edad\"] = int(input())\n",
        "print(\"numero: \")\n",
        "dicc[\"numero\"] = (input())\n",
        "\n",
        "print(dicc)"
      ],
      "metadata": {
        "id": "agB0aQrIIUXN",
        "outputId": "58fcb9e3-4f34-4aca-8d57-e7eb2e3742cd",
        "colab": {
          "base_uri": "https://localhost:8080/"
        }
      },
      "execution_count": null,
      "outputs": [
        {
          "output_type": "stream",
          "name": "stdout",
          "text": [
            "cual es tu nombre\n",
            "fede\n",
            "edad: \n",
            "29\n",
            "numero: \n",
            "091332\n",
            "{'nombre': 'fede', 'edad': 29, 'numero': '091332'}\n"
          ]
        }
      ]
    },
    {
      "cell_type": "code",
      "source": [
        "#ejercicio 3\n",
        "\"\"\"\n",
        "Escribe un programa que cree un diccionario simulando una cesta de la compra. El programa debe preguntar\n",
        "el artículo y su precio por unidad. El artículo será la clave y el valor el precio, hasta que el usuario decida\n",
        "terminar. Después se debe mostrar por pantalla la lista de la compra y el coste total, con el siguiente formato\n",
        "\"\"\"\n"
      ],
      "metadata": {
        "id": "0j3fI1wX8cFu"
      },
      "execution_count": null,
      "outputs": []
    }
  ]
}