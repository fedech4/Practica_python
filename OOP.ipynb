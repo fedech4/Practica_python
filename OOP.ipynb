{
  "nbformat": 4,
  "nbformat_minor": 0,
  "metadata": {
    "colab": {
      "name": "OOP.ipynb",
      "provenance": [],
      "authorship_tag": "ABX9TyMx1ZQ/nvZ4ax+yfa06ekcC",
      "include_colab_link": true
    },
    "kernelspec": {
      "name": "python3",
      "display_name": "Python 3"
    },
    "language_info": {
      "name": "python"
    }
  },
  "cells": [
    {
      "cell_type": "markdown",
      "metadata": {
        "id": "view-in-github",
        "colab_type": "text"
      },
      "source": [
        "<a href=\"https://colab.research.google.com/github/fedechaves/Practica_python/blob/main/OOP.ipynb\" target=\"_parent\"><img src=\"https://colab.research.google.com/assets/colab-badge.svg\" alt=\"Open In Colab\"/></a>"
      ]
    },
    {
      "cell_type": "code",
      "execution_count": null,
      "metadata": {
        "id": "ojNaK0PbBuH9"
      },
      "outputs": [],
      "source": [
        "#OOP (object oriented programming)ejercicios\n",
        "\n"
      ]
    },
    {
      "cell_type": "code",
      "source": [
        "#ejercicio 1\n",
        "\"\"\"\n",
        "A lo largo de toda esta taraea vas a construir la clase Date. Empieza con el constructor, que recibe por\n",
        "parámetros el día (day), mes (month) y año (year). Los 3 parámetros son de tipo int y por defecto todos\n",
        "valen 1.dfa\n",
        "\"\"\""
      ],
      "metadata": {
        "id": "x9rLNPocB0gv"
      },
      "execution_count": null,
      "outputs": []
    },
    {
      "cell_type": "code",
      "source": [
        "#ejercicio 2\n",
        "\"\"\"\n",
        "\"\"\"\n",
        "x = \"federico\"\n",
        "spliteo = x.split()\n",
        "\n",
        "print(spliteo)"
      ],
      "metadata": {
        "id": "LdPN0YB2JVxC",
        "outputId": "98e1e176-d96a-4105-8e3d-f0546c38ca40",
        "colab": {
          "base_uri": "https://localhost:8080/"
        }
      },
      "execution_count": null,
      "outputs": [
        {
          "output_type": "stream",
          "name": "stdout",
          "text": [
            "['federico']\n"
          ]
        }
      ]
    },
    {
      "cell_type": "code",
      "source": [
        "#KATA\n",
        "def are_you_playing_banjo(name):\n",
        "# Implement me!\n",
        "    nameSplit = list(name)\n",
        "    if nameSplit[0] == \"R\" or nameSplit[0] == \"r\":\n",
        "        return name + \" plays banjo\"\n",
        "    else: \n",
        "        return name + \" does not play banjo\"\n",
        "\n",
        "are_you_playing_banjo(\"Rober\")\n",
        "\n"
      ],
      "metadata": {
        "id": "L4YjnSnAacgX",
        "outputId": "bfa5e5ad-4f9e-4565-ddd5-64b449a813dc",
        "colab": {
          "base_uri": "https://localhost:8080/",
          "height": 54
        }
      },
      "execution_count": null,
      "outputs": [
        {
          "output_type": "stream",
          "name": "stdout",
          "text": [
            "['R', 'o', 'b', 'e', 'r']\n"
          ]
        },
        {
          "output_type": "execute_result",
          "data": {
            "text/plain": [
              "'Rober plays banjo'"
            ],
            "application/vnd.google.colaboratory.intrinsic+json": {
              "type": "string"
            }
          },
          "metadata": {},
          "execution_count": 18
        }
      ]
    }
  ]
}