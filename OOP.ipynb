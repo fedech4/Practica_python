{
  "nbformat": 4,
  "nbformat_minor": 0,
  "metadata": {
    "colab": {
      "name": "OOP.ipynb",
      "provenance": [],
      "include_colab_link": true
    },
    "kernelspec": {
      "name": "python3",
      "display_name": "Python 3"
    },
    "language_info": {
      "name": "python"
    }
  },
  "cells": [
    {
      "cell_type": "markdown",
      "metadata": {
        "id": "view-in-github",
        "colab_type": "text"
      },
      "source": [
        "<a href=\"https://colab.research.google.com/github/fedechaves/Practica_python/blob/main/OOP.ipynb\" target=\"_parent\"><img src=\"https://colab.research.google.com/assets/colab-badge.svg\" alt=\"Open In Colab\"/></a>"
      ]
    },
    {
      "cell_type": "code",
      "execution_count": null,
      "metadata": {
        "id": "ojNaK0PbBuH9"
      },
      "outputs": [],
      "source": [
        "#OOP (object oriented programming)Excercises \n",
        "#.py data structure\n"
      ]
    },
    {
      "cell_type": "code",
      "source": [
        "#ejercicio 1\n",
        "\"\"\"\n",
        "A lo largo de toda esta taraea vas a construir la clase Date. Empieza con el constructor, que recibe por\n",
        "parámetros el día (day), mes (month) y año (year). Los 3 parámetros son de tipo int y por defecto todos\n",
        "valen 1.dfad\n",
        "\"\"\"\n",
        "\n",
        "class Date():\n",
        "    \"\"\"\n",
        "    inicializamos el constructor date que recibe parametros el dia mes y año\n",
        "    \"\"\"\n",
        "    def __init__(self, dia, mes, ano):\n",
        "        self.dia = dia\n",
        "        self.mes = mes\n",
        "        self.ano = ano"
      ],
      "metadata": {
        "id": "x9rLNPocB0gv"
      },
      "execution_count": null,
      "outputs": []
    },
    {
      "cell_type": "code",
      "source": [
        "#ejercicio 2\n",
        "\"\"\"\n",
        "Configura el método .__str__() para que muestre la fecha en formato day / month / year. Si el valor\n",
        "del día o el mes son menores a 10, mostrar el valor con un 0 delante. Por ejemplo, si day = 8, month = 7 y\n",
        "year = 1998, entonces se debería mostrar 08 / 07 / 1998.\n",
        "En el caso del año, si el año es menor a 1000, mostrar con un cero delante; si es menor a 100, mostrar con 2\n",
        "ceros delante; y si es menor a 10, mostrar con 3 ceros delante.\n",
        "PISTA: Puedes crear una función que dado un número entero y el número de cifras que debe tener, rellene\n",
        "con ceros a la izquierda hasta completar el número de cifras indicado.\n",
        "\"\"\"\n",
        "def addZeros(n, m = 2):\n",
        "    \"\"\"\n",
        "    añade ceros a la izquierda\n",
        "    \"\"\"\n",
        "    for i in range(m - 1, 0, -1):\n",
        "        print(i)\n",
        "        if n < 10 ** (m-i):\n",
        "            return \"0\" * i + str(n)\n",
        "    else: return n\n",
        "\n",
        "class Date():\n",
        "    \"\"\"\n",
        "    inicializamos el constructor date que recibe parametros el dia mes y año\n",
        "    \"\"\"\n",
        "    def __init__(self, dia, mes, anho):\n",
        "        self.dia = dia\n",
        "        self.mes = mes\n",
        "        self.anho = anho\n",
        "\n",
        "    def __str__(self):\n",
        "            return (\"{} / {} / {}.\".format(addZeros(self.dia), addZeros(self.mes), addZeros(self.anho,4)))\n",
        "\"\"\" \n",
        "OTRO METODO si se pide solo de un digito\n",
        "\n",
        "    #metodo self para que nos pase la fecha en formato str\n",
        "    def __str__(self):\n",
        "        if self.dia < 10:\n",
        "            newDia = \"0\" + str(self.dia)\n",
        "        else:\n",
        "            newDia = str(self.dia)\n",
        "\n",
        "        if self.mes < 10:\n",
        "            newMes = \"0\" + str(self.mes)\n",
        "        else:\n",
        "            newDia = str(self.dia)\n",
        "\n",
        "        if self.anho < 10:\n",
        "            newAnho = \"0\" +\"0\" +\"0\" +str(self.anho)\n",
        "        elif self.anho >= 10 and self.anho < 100:\n",
        "            newAnho = \"0\" +\"0\" + str(self.anho)\n",
        "        elif self.anho >= 100 and self.anho < 1000:\n",
        "            newAnho = \"0\" + str(self.anho)\n",
        "        else:\n",
        "            newAnho = str(self.anho)\n",
        "\n",
        "        return (\"{} / {} / {}.\".format(newDia, newMes, newAnho))\n",
        "\n",
        "\"\"\"\n",
        "        \n",
        "\n",
        "independenceDay = Date(4,7,192)\n",
        "\n",
        "addZeros(1)"
      ],
      "metadata": {
        "id": "LdPN0YB2JVxC",
        "outputId": "05ac42fd-7157-4db3-9db8-258997974ad2",
        "colab": {
          "base_uri": "https://localhost:8080/",
          "height": 54
        }
      },
      "execution_count": null,
      "outputs": [
        {
          "output_type": "stream",
          "name": "stdout",
          "text": [
            "1\n"
          ]
        },
        {
          "output_type": "execute_result",
          "data": {
            "text/plain": [
              "'01'"
            ],
            "application/vnd.google.colaboratory.intrinsic+json": {
              "type": "string"
            }
          },
          "metadata": {},
          "execution_count": 17
        }
      ]
    },
    {
      "cell_type": "code",
      "source": [
        "#KATA\n",
        "def are_you_playing_banjo(name):\n",
        "# Implement me!\n",
        "    nameSplit = list(name)\n",
        "    if nameSplit[0] == \"R\" or nameSplit[0] == \"r\":\n",
        "        return name + \" plays banjo\"\n",
        "    else: \n",
        "        return name + \" does not play banjo\"\n",
        "\n",
        "are_you_playing_banjo(\"Rober\")\n",
        "\n"
      ],
      "metadata": {
        "id": "L4YjnSnAacgX",
        "outputId": "bfa5e5ad-4f9e-4565-ddd5-64b449a813dc",
        "colab": {
          "base_uri": "https://localhost:8080/",
          "height": 54
        }
      },
      "execution_count": null,
      "outputs": [
        {
          "output_type": "stream",
          "name": "stdout",
          "text": [
            "['R', 'o', 'b', 'e', 'r']\n"
          ]
        },
        {
          "output_type": "execute_result",
          "data": {
            "text/plain": [
              "'Rober plays banjo'"
            ],
            "application/vnd.google.colaboratory.intrinsic+json": {
              "type": "string"
            }
          },
          "metadata": {},
          "execution_count": 18
        }
      ]
    },
    {
      "cell_type": "code",
      "source": [
        "#ejercicio 3\n",
        "\"\"\"\n",
        "Implementa el método de instancia .isLeap() que diga si el año es bisiesto o no.\n",
        "\"\"\"\n",
        "def addZeros(n, m = 2):\n",
        "    \"\"\"\n",
        "    añade ceros a la izquierda\n",
        "    \"\"\"\n",
        "    for i in range(m - 1, 0, -1):\n",
        "        print(i)\n",
        "        if n < 10 ** (m-i):\n",
        "            return \"0\" * i + str(n)\n",
        "    else: return n\n",
        "\n",
        "class Date():\n",
        "    \"\"\"\n",
        "    inicializamos el constructor date que recibe parametros el dia mes y año\n",
        "    \"\"\"\n",
        "    def __init__(self, dia, mes, anho):\n",
        "        self.dia = dia\n",
        "        self.mes = mes\n",
        "        self.anho = anho\n",
        "\n",
        "    def __str__(self):\n",
        "            return (\"{} / {} / {}.\".format(addZeros(self.dia), addZeros(self.mes), addZeros(self.anho,4)))\n",
        "    \n",
        "    def isLeap(self):\n",
        "        if self.anho % 4 == 0:\n",
        "            if self.anho % 100 == 0:\n",
        "                if self.anho % 400 == 0:\n",
        "                    return True\n",
        "                else: return False\n",
        "            else: return False\n",
        "        else: return False\n",
        "\n",
        "\n",
        "independenceDay = Date(4,7,192)\n",
        "\n",
        "independenceDay.isLeap()\n",
        "type(independenceDay)"
      ],
      "metadata": {
        "id": "1zxBgNQBK9cC",
        "outputId": "ce2939aa-5df3-4856-c330-17a750891699",
        "colab": {
          "base_uri": "https://localhost:8080/"
        }
      },
      "execution_count": null,
      "outputs": [
        {
          "output_type": "execute_result",
          "data": {
            "text/plain": [
              "__main__.Date"
            ]
          },
          "metadata": {},
          "execution_count": 1
        }
      ]
    }
  ]
}