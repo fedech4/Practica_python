{
  "nbformat": 4,
  "nbformat_minor": 0,
  "metadata": {
    "colab": {
      "name": "OOP.ipynb",
      "provenance": [],
      "authorship_tag": "ABX9TyOHjH6GlPM0hko4MYregF8y",
      "include_colab_link": true
    },
    "kernelspec": {
      "name": "python3",
      "display_name": "Python 3"
    },
    "language_info": {
      "name": "python"
    }
  },
  "cells": [
    {
      "cell_type": "markdown",
      "metadata": {
        "id": "view-in-github",
        "colab_type": "text"
      },
      "source": [
        "<a href=\"https://colab.research.google.com/github/fedechaves/Practica_python/blob/main/OOP.ipynb\" target=\"_parent\"><img src=\"https://colab.research.google.com/assets/colab-badge.svg\" alt=\"Open In Colab\"/></a>"
      ]
    },
    {
      "cell_type": "code",
      "execution_count": null,
      "metadata": {
        "id": "ojNaK0PbBuH9"
      },
      "outputs": [],
      "source": [
        "#OOP (object oriented programming)ejercicios\n",
        "\n"
      ]
    },
    {
      "cell_type": "code",
      "source": [
        "#ejercicio 1\n",
        "\"\"\"\n",
        "A lo largo de toda esta taraea vas a construir la clase Date. Empieza con el constructor, que recibe por\n",
        "parámetros el día (day), mes (month) y año (year). Los 3 parámetros son de tipo int y por defecto todos\n",
        "valen 1.\n",
        "\"\"\""
      ],
      "metadata": {
        "id": "x9rLNPocB0gv"
      },
      "execution_count": null,
      "outputs": []
    }
  ]
}