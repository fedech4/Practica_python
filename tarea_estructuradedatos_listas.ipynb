{
  "nbformat": 4,
  "nbformat_minor": 0,
  "metadata": {
    "colab": {
      "name": "tarea_estructuradedatos_listas.ipynb",
      "provenance": [],
      "authorship_tag": "ABX9TyNzgxhzPEkb15vDHwEqarJz",
      "include_colab_link": true
    },
    "kernelspec": {
      "name": "python3",
      "display_name": "Python 3"
    },
    "language_info": {
      "name": "python"
    }
  },
  "cells": [
    {
      "cell_type": "markdown",
      "metadata": {
        "id": "view-in-github",
        "colab_type": "text"
      },
      "source": [
        "<a href=\"https://colab.research.google.com/github/fedechavesf/Practica_python/blob/main/tarea_estructuradedatos_listas.ipynb\" target=\"_parent\"><img src=\"https://colab.research.google.com/assets/colab-badge.svg\" alt=\"Open In Colab\"/></a>"
      ]
    },
    {
      "cell_type": "code",
      "metadata": {
        "colab": {
          "base_uri": "https://localhost:8080/"
        },
        "id": "Nrf9Vlw3waeM",
        "outputId": "2d4699ee-ae14-468d-a50f-8a6d3df1d8eb"
      },
      "source": [
        "#Ejercicio 1\n",
        "\"\"\"\n",
        "Crea un programa que lea una secuencia de caracteres, guarde cada caracter en una posición de una lista y\n",
        "finalmente muestre la secuencia invertida.\n",
        "\"\"\"\n",
        "caracteres = \"abcd\"\n",
        "count = []\n",
        "for i in caracteres:\n",
        "    print(i)\n",
        "    count.append(i)\n",
        "print(count)\n",
        "\n",
        "print(count)\n",
        "\n"
      ],
      "execution_count": null,
      "outputs": [
        {
          "output_type": "stream",
          "name": "stdout",
          "text": [
            "a\n",
            "b\n",
            "c\n",
            "d\n",
            "['a', 'b', 'c', 'd']\n",
            "['a', 'b', 'c', 'd']\n"
          ]
        }
      ]
    },
    {
      "cell_type": "code",
      "metadata": {
        "colab": {
          "base_uri": "https://localhost:8080/"
        },
        "id": "cjvms--M41Hy",
        "outputId": "6bfcc00d-6008-4605-e5c2-36c6b06ac2bd"
      },
      "source": [
        "#ejercicio 2\n",
        "\"\"\"\n",
        "Crea un programa que lea dos strings de la misma longitud, los guarde intercalados en una lista. Por último,\n",
        "mostrar el contenido de la lista.\n",
        "Por ejemplo, si introducimos hola caracola y adios marieta, debería mostrarse haodleao sc\n",
        "amraarcioeltaa.\n",
        "\"\"\"\n",
        "palabra1 = input(\"escriba una palabra: \")\n",
        "palabra2 = input(\"escriba otra palabra: \")\n",
        "\n",
        "lista1 = []\n",
        "\n",
        "if len(palabra1) == len(palabra2):\n",
        "    for i in range(len(palabra1)):\n",
        "        lista1.append(palabra1[i])\n",
        "        lista1.append(palabra2[i])\n",
        "\n",
        "    for element in lista1:\n",
        "        print(element, end=\"\")\n",
        "else:\n",
        "    print(\"no tienen la misma longitud\")"
      ],
      "execution_count": null,
      "outputs": [
        {
          "output_type": "stream",
          "name": "stdout",
          "text": [
            "escriba una palabra: federico\n",
            "escriba otra palabra: federico\n",
            "ffeeddeerriiccoo"
          ]
        }
      ]
    },
    {
      "cell_type": "code",
      "metadata": {
        "id": "qO38lka1-XvL",
        "colab": {
          "base_uri": "https://localhost:8080/"
        },
        "outputId": "c7e23cdc-eaa5-4d78-9b97-f7e21625879c"
      },
      "source": [
        "#ejercicio 3\n",
        "\"\"\"\n",
        "Crea un programa que lea un string y guarde en una lista todas las consonantes.\n",
        "\"\"\"\n",
        "\n",
        "palabra1 = input(\"escriba una palabra: \")\n",
        "lista1 = []\n",
        "\n",
        "for i in palabra1:\n",
        "    if i == \"a\" or i== \"e\" or i== \"i\" or i== \"o\"  or i== \"u\":\n",
        "        continue\n",
        "    lista1.append(i)\n",
        "\n",
        "print(lista1)"
      ],
      "execution_count": 6,
      "outputs": [
        {
          "output_type": "stream",
          "name": "stdout",
          "text": [
            "escriba una palabra: fede\n",
            "['f', 'd']\n"
          ]
        }
      ]
    },
    {
      "cell_type": "code",
      "metadata": {
        "colab": {
          "base_uri": "https://localhost:8080/"
        },
        "id": "Upjfj_m-CbC6",
        "outputId": "7b0109fc-648f-43af-d792-d79328a389b8"
      },
      "source": [
        "#ejercicio 4\n",
        "\"\"\"\n",
        "Crea un programa que lea una palabra, la guarde en una lista y compruebe si se trata de un palíndromo.\n",
        "\"\"\"\n",
        "palabra1 = input(\"escriba una palabra: \")\n",
        "lista1 = []\n",
        "isPalindrom = True\n",
        "\n",
        "for c in palabra1:\n",
        "    lista1.append(c)\n",
        "\n",
        "\n",
        "n=len(lista1)\n",
        "\n",
        "for i in range(int(n / 2)):\n",
        "    print(lista1[i])\n",
        "    print(lista1[n-(i+1)])\n",
        "    if lista1[i] != lista1[n-(i+1)]:\n",
        "        isPalindrom = False\n",
        "print(\"es {} palindromo? {}.\".format(palabra1, \"si\" if isPalindrom else \"no\"))\n"
      ],
      "execution_count": 44,
      "outputs": [
        {
          "output_type": "stream",
          "name": "stdout",
          "text": [
            "escriba una palabra: fede\n",
            "f\n",
            "e\n",
            "e\n",
            "d\n",
            "es fede palindromo? no.\n"
          ]
        }
      ]
    }
  ]
}