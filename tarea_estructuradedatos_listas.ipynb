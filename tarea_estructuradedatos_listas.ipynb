{
  "nbformat": 4,
  "nbformat_minor": 0,
  "metadata": {
    "colab": {
      "name": "tarea_estructuradedatos_listas.ipynb",
      "provenance": [],
      "authorship_tag": "ABX9TyP32ch9RxXdwbBsXHiVMwXD",
      "include_colab_link": true
    },
    "kernelspec": {
      "name": "python3",
      "display_name": "Python 3"
    },
    "language_info": {
      "name": "python"
    }
  },
  "cells": [
    {
      "cell_type": "markdown",
      "metadata": {
        "id": "view-in-github",
        "colab_type": "text"
      },
      "source": [
        "<a href=\"https://colab.research.google.com/github/fedechavesf/Practica_python/blob/main/tarea_estructuradedatos_listas.ipynb\" target=\"_parent\"><img src=\"https://colab.research.google.com/assets/colab-badge.svg\" alt=\"Open In Colab\"/></a>"
      ]
    },
    {
      "cell_type": "code",
      "metadata": {
        "colab": {
          "base_uri": "https://localhost:8080/"
        },
        "id": "Nrf9Vlw3waeM",
        "outputId": "2d4699ee-ae14-468d-a50f-8a6d3df1d8eb"
      },
      "source": [
        "#Ejercicio 1\n",
        "\"\"\"\n",
        "Crea un programa que lea una secuencia de caracteres, guarde cada caracter en una posición de una lista y\n",
        "finalmente muestre la secuencia invertida.\n",
        "\"\"\"\n",
        "caracteres = \"abcd\"\n",
        "count = []\n",
        "for i in caracteres:\n",
        "    print(i)\n",
        "    count.append(i)\n",
        "print(count)\n",
        "\n",
        "print(count)\n",
        "\n"
      ],
      "execution_count": null,
      "outputs": [
        {
          "output_type": "stream",
          "name": "stdout",
          "text": [
            "a\n",
            "b\n",
            "c\n",
            "d\n",
            "['a', 'b', 'c', 'd']\n",
            "['a', 'b', 'c', 'd']\n"
          ]
        }
      ]
    },
    {
      "cell_type": "code",
      "metadata": {
        "colab": {
          "base_uri": "https://localhost:8080/"
        },
        "id": "cjvms--M41Hy",
        "outputId": "6bfcc00d-6008-4605-e5c2-36c6b06ac2bd"
      },
      "source": [
        "#ejercicio 2\n",
        "\"\"\"\n",
        "Crea un programa que lea dos strings de la misma longitud, los guarde intercalados en una lista. Por último,\n",
        "mostrar el contenido de la lista.\n",
        "Por ejemplo, si introducimos hola caracola y adios marieta, debería mostrarse haodleao sc\n",
        "amraarcioeltaa.\n",
        "\"\"\"\n",
        "palabra1 = input(\"escriba una palabra: \")\n",
        "palabra2 = input(\"escriba otra palabra: \")\n",
        "\n",
        "lista1 = []\n",
        "\n",
        "if len(palabra1) == len(palabra2):\n",
        "    for i in range(len(palabra1)):\n",
        "        lista1.append(palabra1[i])\n",
        "        lista1.append(palabra2[i])\n",
        "\n",
        "    for element in lista1:\n",
        "        print(element, end=\"\")\n",
        "else:\n",
        "    print(\"no tienen la misma longitud\")"
      ],
      "execution_count": null,
      "outputs": [
        {
          "output_type": "stream",
          "name": "stdout",
          "text": [
            "escriba una palabra: federico\n",
            "escriba otra palabra: federico\n",
            "ffeeddeerriiccoo"
          ]
        }
      ]
    },
    {
      "cell_type": "code",
      "metadata": {
        "id": "qO38lka1-XvL",
        "colab": {
          "base_uri": "https://localhost:8080/"
        },
        "outputId": "c7e23cdc-eaa5-4d78-9b97-f7e21625879c"
      },
      "source": [
        "#ejercicio 3\n",
        "\"\"\"\n",
        "Crea un programa que lea un string y guarde en una lista todas las consonantes.\n",
        "\"\"\"\n",
        "\n",
        "palabra1 = input(\"escriba una palabra: \")\n",
        "lista1 = []\n",
        "\n",
        "for i in palabra1:\n",
        "    if i == \"a\" or i== \"e\" or i== \"i\" or i== \"o\"  or i== \"u\":\n",
        "        continue\n",
        "    lista1.append(i)\n",
        "\n",
        "print(lista1)"
      ],
      "execution_count": null,
      "outputs": [
        {
          "output_type": "stream",
          "name": "stdout",
          "text": [
            "escriba una palabra: fede\n",
            "['f', 'd']\n"
          ]
        }
      ]
    },
    {
      "cell_type": "code",
      "metadata": {
        "colab": {
          "base_uri": "https://localhost:8080/"
        },
        "id": "Upjfj_m-CbC6",
        "outputId": "7b0109fc-648f-43af-d792-d79328a389b8"
      },
      "source": [
        "#ejercicio 4\n",
        "\"\"\"\n",
        "Crea un programa que lea una palabra, la guarde en una lista y compruebe si se trata de un palíndromo.\n",
        "\"\"\"\n",
        "palabra1 = input(\"escriba una palabra: \")\n",
        "lista1 = []\n",
        "isPalindrom = True\n",
        "\n",
        "for c in palabra1:\n",
        "    lista1.append(c)\n",
        "\n",
        "\n",
        "n=len(lista1)\n",
        "\n",
        "for i in range(int(n / 2)):\n",
        "    print(lista1[i])\n",
        "    print(lista1[n-(i+1)])\n",
        "    if lista1[i] != lista1[n-(i+1)]:\n",
        "        isPalindrom = False\n",
        "print(\"es {} palindromo? {}.\".format(palabra1, \"si\" if isPalindrom else \"no\"))\n"
      ],
      "execution_count": null,
      "outputs": [
        {
          "output_type": "stream",
          "name": "stdout",
          "text": [
            "escriba una palabra: fede\n",
            "f\n",
            "e\n",
            "e\n",
            "d\n",
            "es fede palindromo? no.\n"
          ]
        }
      ]
    },
    {
      "cell_type": "code",
      "metadata": {
        "colab": {
          "base_uri": "https://localhost:8080/"
        },
        "id": "-wABhoCqYpRk",
        "outputId": "55314761-e2df-4bfb-ebef-2a5a55a269ad"
      },
      "source": [
        "#ejercicio 5\n",
        "\"\"\"\n",
        "Crea un programa que lea una matriz 3 x 3 y devuelva el máximo de cada fila.\n",
        "\"\"\"\n",
        "a = []\n",
        "for i in range(3):\n",
        "    a.append([])\n",
        "    for j in range(3):\n",
        "        a[i].append(float(input(\"introduce el elemento: ({},{}).\".format(i,j))))\n",
        "\n",
        "for i in range(3):\n",
        "    a[i].sort(reverse=True)\n",
        "    print(\"el maximo de la fila {} es {}\".format(i,a[i][0]))\n"
      ],
      "execution_count": null,
      "outputs": [
        {
          "output_type": "stream",
          "name": "stdout",
          "text": [
            "introduce el elemento: (0,0).5\n",
            "introduce el elemento: (0,1).5\n",
            "introduce el elemento: (0,2).5\n",
            "introduce el elemento: (1,0).5\n",
            "introduce el elemento: (1,1).5\n",
            "introduce el elemento: (1,2).5\n",
            "introduce el elemento: (2,0).3\n",
            "introduce el elemento: (2,1).3\n",
            "introduce el elemento: (2,2).3\n",
            "el maximo de la fila 0 es 5.0\n",
            "el maximo de la fila 1 es 5.0\n",
            "el maximo de la fila 2 es 3.0\n"
          ]
        }
      ]
    },
    {
      "cell_type": "code",
      "metadata": {
        "colab": {
          "base_uri": "https://localhost:8080/"
        },
        "id": "LGN9w0oAoRwh",
        "outputId": "b5a1fbd2-cc94-407c-fb74-dedc841b9fcc"
      },
      "source": [
        "#ejercicio 6\n",
        "\"\"\"\n",
        "Crea un programa que lea un entero, n, de teclado y construya una matriz de tamaño n × n. Cada posición\n",
        "debe contener su orden en la matriz (desde 0 hasta n\n",
        "2 − 1. Por ejemplo, si n es 3, deberá crearse la matriz\n",
        "[0, 1, 2]\n",
        "[3, 4, 5]\n",
        "[6, 7, 8]\n",
        "\"\"\"\n"
      ],
      "execution_count": null,
      "outputs": [
        {
          "output_type": "stream",
          "name": "stdout",
          "text": [
            "digite un numero: 3\n",
            "[0, 1, 2]\n",
            "[3, 4, 5]\n",
            "[6, 7, 8]\n"
          ]
        }
      ]
    },
    {
      "cell_type": "code",
      "metadata": {
        "colab": {
          "base_uri": "https://localhost:8080/"
        },
        "id": "9_CaHFGIrjN6",
        "outputId": "ae5fea57-dd24-4549-af8f-f7df84409dbd"
      },
      "source": [
        "n = int(input(\"digite un numero: \"))\n",
        "matriz = []\n",
        "for i in range(n):\n",
        "    matriz.append([])\n",
        "    for j in range(n):\n",
        "        matriz[i].append(n*i+j)\n",
        "\n",
        "\n",
        "for i in range(n):\n",
        "    print(matriz[i])\n",
        "\n",
        "print(matriz,end=\"\\n\")"
      ],
      "execution_count": null,
      "outputs": [
        {
          "output_type": "stream",
          "name": "stdout",
          "text": [
            "digite un numero: 3\n",
            "[0, 1, 2]\n",
            "[3, 4, 5]\n",
            "[6, 7, 8]\n",
            "[[0, 1, 2], [3, 4, 5], [6, 7, 8]]\n"
          ]
        }
      ]
    },
    {
      "cell_type": "code",
      "metadata": {
        "colab": {
          "base_uri": "https://localhost:8080/"
        },
        "id": "8WosOQGjN7Nd",
        "outputId": "db0242bc-492f-4717-c611-077bff14b74b"
      },
      "source": [
        "#EJERCICIO 7\n",
        "\"\"\"\n",
        "Crea una matriz de n × m y asigna los valores manualmente. El programa debe indicar si la suma de cada\n",
        "columna es el mismo valor.\n",
        "\"\"\"\n",
        "\n",
        "n = int(input(\"valor de n:  \"))\n",
        "m = int(input(\"valor de m:  \"))\n",
        "matriz = []\n",
        "for i in range(n):\n",
        "    matriz.append([])\n",
        "    for j in range(m):\n",
        "        matriz[i].append(int(input(\"elemento({}, {})\".format(i,j))))\n",
        "\n",
        "sums = [] \n",
        "\n",
        "for j in range(m):\n",
        "    sum = 0\n",
        "    for i in range(n):\n",
        "        sum += matriz[i][j]\n",
        "    sums.append(sum)\n",
        "\n",
        "sameSum = True\n",
        "for i in range(m-1):\n",
        "    if sums[i] != sums[i+1]:\n",
        "        sameSum = False\n",
        "\n",
        "print(\"{}.\".format(\"si\" if sameSum else \"no\"))"
      ],
      "execution_count": null,
      "outputs": [
        {
          "output_type": "stream",
          "name": "stdout",
          "text": [
            "valor de n:  3\n",
            "valor de m:  1\n",
            "elemento(0, 0)2\n",
            "elemento(1, 0)3\n",
            "elemento(2, 0)1\n",
            "si.\n"
          ]
        }
      ]
    },
    {
      "cell_type": "code",
      "metadata": {
        "id": "GjFQmD-Qmgwh",
        "outputId": "0c7e0a6a-c0a9-44b0-a1a7-95584f1a5d15",
        "colab": {
          "base_uri": "https://localhost:8080/"
        }
      },
      "source": [
        "#ejercicio 8\n",
        "\"\"\"\n",
        "Crear un programa determina si la matriz introducida manualmente (tanto sus dimensiones como los ele\u0002mentos) se trata de la matriz identidad. Recuerda que la matriz identidad debe ser una matriz cuadrada\n",
        "\"\"\"\n",
        "\n",
        "n = int(input(\"numero de filas:  \"))\n",
        "m = int(input(\"numero de columnas:  \"))\n",
        "\n",
        "A = []\n",
        "\n",
        "for i in range(n):\n",
        "    A.append([])\n",
        "    for j in range(m):\n",
        "        A[i].append(int(input(\"elemento ({}, {}) \".format(i,j))))\n",
        "print(A)\n",
        "\n",
        "isI = True\n",
        "if n == m:\n",
        "    for i in range(n):\n",
        "        for j in range(n):\n",
        "            print(A[i])\n",
        "            print(A[i][j])\n",
        "            print(i,j)\n",
        "            if i == j and A[i][j] != 1:\n",
        "                isI = False\n",
        "            if i != j and A[i][j] != 0:\n",
        "                isI = False\n",
        "else:\n",
        "    isI = False\n",
        "    print(\"la matriz no es cuadrada. Ni puede ser la matriz identidad\")\n",
        "    \n",
        "print(\"la matriz introducida es la matriz identidad? {}\".format(\"si\" if isI else \"no\"))"
      ],
      "execution_count": 20,
      "outputs": [
        {
          "output_type": "stream",
          "name": "stdout",
          "text": [
            "numero de filas:  2\n",
            "numero de columnas:  2\n",
            "elemento (0, 0) 1\n",
            "elemento (0, 1) 0\n",
            "elemento (1, 0) 1\n",
            "elemento (1, 1) 0\n",
            "[[1, 0], [1, 0]]\n",
            "[1, 0]\n",
            "1\n",
            "0 0\n",
            "[1, 0]\n",
            "0\n",
            "0 1\n",
            "[1, 0]\n",
            "1\n",
            "1 0\n",
            "[1, 0]\n",
            "0\n",
            "1 1\n",
            "la matriz introducida es la matriz identidad? no\n"
          ]
        }
      ]
    }
  ]
}