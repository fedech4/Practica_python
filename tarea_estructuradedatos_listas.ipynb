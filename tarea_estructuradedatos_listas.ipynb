{
  "nbformat": 4,
  "nbformat_minor": 0,
  "metadata": {
    "colab": {
      "name": "tarea_estructuradedatos_listas.ipynb",
      "provenance": [],
      "authorship_tag": "ABX9TyMjX3MVG5epL/IgI4kdNH0n",
      "include_colab_link": true
    },
    "kernelspec": {
      "name": "python3",
      "display_name": "Python 3"
    },
    "language_info": {
      "name": "python"
    }
  },
  "cells": [
    {
      "cell_type": "markdown",
      "metadata": {
        "id": "view-in-github",
        "colab_type": "text"
      },
      "source": [
        "<a href=\"https://colab.research.google.com/github/fedechavesf/Practica_python/blob/main/tarea_estructuradedatos_listas.ipynb\" target=\"_parent\"><img src=\"https://colab.research.google.com/assets/colab-badge.svg\" alt=\"Open In Colab\"/></a>"
      ]
    },
    {
      "cell_type": "code",
      "metadata": {
        "colab": {
          "base_uri": "https://localhost:8080/"
        },
        "id": "Nrf9Vlw3waeM",
        "outputId": "2d4699ee-ae14-468d-a50f-8a6d3df1d8eb"
      },
      "source": [
        "#Ejercicio 1\n",
        "\"\"\"\n",
        "Crea un programa que lea una secuencia de caracteres, guarde cada caracter en una posición de una lista y\n",
        "finalmente muestre la secuencia invertida.\n",
        "\"\"\"\n",
        "caracteres = \"abcd\"\n",
        "count = []\n",
        "for i in caracteres:\n",
        "    print(i)\n",
        "    count.append(i)\n",
        "print(count)\n",
        "\n",
        "print(count)\n",
        "\n"
      ],
      "execution_count": 16,
      "outputs": [
        {
          "output_type": "stream",
          "name": "stdout",
          "text": [
            "a\n",
            "b\n",
            "c\n",
            "d\n",
            "['a', 'b', 'c', 'd']\n",
            "['a', 'b', 'c', 'd']\n"
          ]
        }
      ]
    },
    {
      "cell_type": "code",
      "metadata": {
        "colab": {
          "base_uri": "https://localhost:8080/"
        },
        "id": "cjvms--M41Hy",
        "outputId": "6bfcc00d-6008-4605-e5c2-36c6b06ac2bd"
      },
      "source": [
        "#ejercicio 2\n",
        "\"\"\"\n",
        "Crea un programa que lea dos strings de la misma longitud, los guarde intercalados en una lista. Por último,\n",
        "mostrar el contenido de la lista.\n",
        "Por ejemplo, si introducimos hola caracola y adios marieta, debería mostrarse haodleao sc\n",
        "amraarcioeltaa.\n",
        "\"\"\"\n",
        "palabra1 = input(\"escriba una palabra: \")\n",
        "palabra2 = input(\"escriba otra palabra: \")\n",
        "\n",
        "lista1 = []\n",
        "\n",
        "if len(palabra1) == len(palabra2):\n",
        "    for i in range(len(palabra1)):\n",
        "        lista1.append(palabra1[i])\n",
        "        lista1.append(palabra2[i])\n",
        "\n",
        "    for element in lista1:\n",
        "        print(element, end=\"\")\n",
        "else:\n",
        "    print(\"no tienen la misma longitud\")"
      ],
      "execution_count": 24,
      "outputs": [
        {
          "output_type": "stream",
          "name": "stdout",
          "text": [
            "escriba una palabra: federico\n",
            "escriba otra palabra: federico\n",
            "ffeeddeerriiccoo"
          ]
        }
      ]
    },
    {
      "cell_type": "code",
      "metadata": {
        "id": "qO38lka1-XvL"
      },
      "source": [
        ""
      ],
      "execution_count": null,
      "outputs": []
    }
  ]
}