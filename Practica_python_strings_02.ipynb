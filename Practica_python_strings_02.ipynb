{
  "nbformat": 4,
  "nbformat_minor": 0,
  "metadata": {
    "colab": {
      "name": "Practica_python_strings_02.ipynb",
      "provenance": [],
      "authorship_tag": "ABX9TyNerAgjXK9AMcPaeJObaaKI",
      "include_colab_link": true
    },
    "kernelspec": {
      "name": "python3",
      "display_name": "Python 3"
    },
    "language_info": {
      "name": "python"
    }
  },
  "cells": [
    {
      "cell_type": "markdown",
      "metadata": {
        "id": "view-in-github",
        "colab_type": "text"
      },
      "source": [
        "<a href=\"https://colab.research.google.com/github/fedechavesf/Practica_python/blob/main/Practica_python_strings_02.ipynb\" target=\"_parent\"><img src=\"https://colab.research.google.com/assets/colab-badge.svg\" alt=\"Open In Colab\"/></a>"
      ]
    },
    {
      "cell_type": "code",
      "metadata": {
        "id": "NyA0dBeFSd02"
      },
      "source": [
        "#ejercicios de python sobre strings#"
      ],
      "execution_count": null,
      "outputs": []
    },
    {
      "cell_type": "code",
      "metadata": {
        "colab": {
          "base_uri": "https://localhost:8080/"
        },
        "id": "7RnYdeM1Sq8l",
        "outputId": "a97f08e4-e9ec-4924-c54d-def2cb058872"
      },
      "source": [
        "#ejercicio numero 1\n",
        "#Utiliza las funciones de concatenar, + y repetir strings, *, \n",
        "#junto con la función print() para dados los siguientes strings s1, s2, s3 y s4, \n",
        "#conseguir el resultado siguiente: Había una vez, un barquito chiquitito\n",
        "#Había una vez, un barquito chiquitito que no podía, que no podía, que no podía navegar\n",
        "\n",
        "s1 = \"Había una vez, \"\n",
        "s2 = \"un barquito chiquitito \"\n",
        "s3 = \"que no podía, \"\n",
        "s4 = \"que no podía navegar.\"\n",
        "\n",
        "resultado = (((s1 + s2 + \"\\n\")*2) + ((s3 + \"\\n\")*2) + s4)\n",
        "\n",
        "print(resultado)\n"
      ],
      "execution_count": null,
      "outputs": [
        {
          "output_type": "stream",
          "name": "stdout",
          "text": [
            "Había una vez, un barquito chiquitito \n",
            "Había una vez, un barquito chiquitito \n",
            "que no podía, \n",
            "que no podía, \n",
            "que no podía navegar.\n"
          ]
        }
      ]
    },
    {
      "cell_type": "code",
      "metadata": {
        "colab": {
          "base_uri": "https://localhost:8080/"
        },
        "id": "-tghcEV1UVpv",
        "outputId": "c2bcbf2a-93d0-4229-d220-0487be462d15"
      },
      "source": [
        "#ejercicio numero 2\n",
        "#Utiliza la función print() y el comando de salto de línea, \\n, \n",
        "#para reproducir exactamente el siguiente texto:\n",
        "\n",
        "print(\"Érase un hombre a una nariz pegado,\\nÉrase una nariz superlativa,\\nÉrase una alquitara medio viva,\\nÉrase un peje espada mal barbado;\")\n",
        "\n",
        "\n"
      ],
      "execution_count": null,
      "outputs": [
        {
          "output_type": "stream",
          "name": "stdout",
          "text": [
            "Érase un hombre a una nariz pegado,\n",
            "Érase una nariz superlativa,\n",
            "Érase una alquitara medio viva,\n",
            "Érase un peje espada mal barbado;\n"
          ]
        }
      ]
    },
    {
      "cell_type": "code",
      "metadata": {
        "colab": {
          "base_uri": "https://localhost:8080/"
        },
        "id": "nU1yY2G2U_-4",
        "outputId": "ab53440c-4899-4b87-8c96-4e368634a9ee"
      },
      "source": [
        "#ejercicio n°3\n",
        "#Transforma el siguiente string s a mayúsculas y muéstralo por pantalla con la función print():\n",
        "s = \"me encantan las matemáticas\"\n",
        "supper = s.upper()\n",
        "\n",
        "print(supper)"
      ],
      "execution_count": null,
      "outputs": [
        {
          "output_type": "stream",
          "name": "stdout",
          "text": [
            "ME ENCANTAN LAS MATEMÁTICAS\n"
          ]
        }
      ]
    },
    {
      "cell_type": "code",
      "metadata": {
        "colab": {
          "base_uri": "https://localhost:8080/"
        },
        "id": "2fN-1dbfVSer",
        "outputId": "6bc3cb6a-9d8c-4a68-b913-0ef83de802c7"
      },
      "source": [
        "#ejercicio n°4\n",
        "#Calcula la longitud del string s\n",
        "s = \"Mi pasión por el chocolate es superior a mis fuerzas\"\n",
        "len(s)"
      ],
      "execution_count": null,
      "outputs": [
        {
          "output_type": "execute_result",
          "data": {
            "text/plain": [
              "52"
            ]
          },
          "metadata": {},
          "execution_count": 38
        }
      ]
    },
    {
      "cell_type": "code",
      "metadata": {
        "colab": {
          "base_uri": "https://localhost:8080/"
        },
        "id": "qPt6JtasVdw7",
        "outputId": "757b8928-8108-4101-bf81-bf06056d40f4"
      },
      "source": [
        "#ejercicio n°5\n",
        "#Del string s del ejercicio anterior, obtén el substring chocolate y guárdalo en una variable llamada s_sub.\n",
        "#No vale contar, deberás hallar los índices del substring con el método .find() (o el que mejor consideres) y\n",
        "#la función len().\n",
        "#Finalmente, imprime tu resultado por pantalla\n",
        "\n",
        "findChoc = s.find(\"chocolate\")\n",
        "choclen = len(\"chocolate\")\n",
        "s_sub = (s[17:17+9+1])\n",
        "\n",
        "print(s_sub)\n",
        "print(\"la palabra está en la posición {} y la palabra contiene {} letras y es:{}.\".format(findChoc, choclen, s_sub))\n",
        "\n"
      ],
      "execution_count": null,
      "outputs": [
        {
          "output_type": "stream",
          "name": "stdout",
          "text": [
            "chocolate \n",
            "la palabra está en la posición 17 y la palabra contiene 9 letras y es:chocolate .\n"
          ]
        }
      ]
    },
    {
      "cell_type": "code",
      "metadata": {
        "colab": {
          "base_uri": "https://localhost:8080/"
        },
        "id": "Wl9U_xbWaTHS",
        "outputId": "ef2c48fa-f778-4279-827f-8c38ad75edf0"
      },
      "source": [
        "#ejercicio 6\n",
        "#Con la función input(), indícale al usuario que introduzca su nombre y guárdalo en la variable llamada\n",
        "#nombre\n",
        "\n",
        "nombre = input(\"cual es tu nombre: \")\n",
        "print(nombre)"
      ],
      "execution_count": null,
      "outputs": [
        {
          "output_type": "stream",
          "name": "stdout",
          "text": [
            "cual es tu nombre: fede\n",
            "fede\n"
          ]
        }
      ]
    },
    {
      "cell_type": "code",
      "metadata": {
        "colab": {
          "base_uri": "https://localhost:8080/"
        },
        "id": "Auj5fkx-amMz",
        "outputId": "30b51cda-5179-4125-835b-d6a362c59ca4"
      },
      "source": [
        "#ejercicio 7\n",
        "#Con la función input(), indícale al usuario que introduzca su apellido y guárdalo en la variable llamada\n",
        "#apellido\n",
        "\n",
        "apellido = input(\"cual es tu apellido: \")\n",
        "print(apellido)\n",
        "\n"
      ],
      "execution_count": null,
      "outputs": [
        {
          "output_type": "stream",
          "name": "stdout",
          "text": [
            "cual es tu apellido: chaves\n",
            "chaves\n"
          ]
        }
      ]
    },
    {
      "cell_type": "code",
      "metadata": {
        "colab": {
          "base_uri": "https://localhost:8080/"
        },
        "id": "ctLTQBh2a0Nz",
        "outputId": "5a34749a-f4a3-433f-dc2b-8bc25bf5cd74"
      },
      "source": [
        "#ejercicio 8\n",
        "\n",
        "#Con la función input(), indícale al usuario que introduzca su edad y guárdala en la variable llamada edad.\n",
        "#¡Ojo con el tipo de dato!\n",
        "\n",
        "edad = int(input(\"cual es tu edad: \"))\n",
        "print(edad)"
      ],
      "execution_count": null,
      "outputs": [
        {
          "output_type": "stream",
          "name": "stdout",
          "text": [
            "cual es tu edad: 29\n",
            "29\n"
          ]
        }
      ]
    },
    {
      "cell_type": "code",
      "metadata": {
        "colab": {
          "base_uri": "https://localhost:8080/"
        },
        "id": "SEeBq-cBbEsW",
        "outputId": "ea0dcb2d-7726-41cc-d93b-d08d01475e94"
      },
      "source": [
        "#ejercicio 9\n",
        "#Con la función input(), indícale al usuario que introduzca la ciudad en la que vive y guárdala en la variable\n",
        "#llamada ciudad\n",
        "\n",
        "ciudad = input(\"cual es tu ciudad: \")\n",
        "print(ciudad)\n",
        "\n"
      ],
      "execution_count": null,
      "outputs": [
        {
          "output_type": "stream",
          "name": "stdout",
          "text": [
            "cual es tu ciudad: asuncion\n",
            "asuncion\n"
          ]
        }
      ]
    },
    {
      "cell_type": "code",
      "metadata": {
        "colab": {
          "base_uri": "https://localhost:8080/"
        },
        "id": "Q-7rFU8QbP1T",
        "outputId": "2c176936-0e01-4ae3-a219-178f6b10b68f"
      },
      "source": [
        "#ejercicio 10\n",
        "\n",
        "print(\"su nombre es {} su apellido {} su edad {} y actualmente vive en: {}\".format(nombre, apellido, edad, ciudad))\n"
      ],
      "execution_count": null,
      "outputs": [
        {
          "output_type": "stream",
          "name": "stdout",
          "text": [
            "su nombre es fede su apellido chaves su edad 29 y actualmente vive en: asuncion\n"
          ]
        }
      ]
    }
  ]
}