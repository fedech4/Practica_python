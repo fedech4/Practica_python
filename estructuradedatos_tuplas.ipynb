{
  "nbformat": 4,
  "nbformat_minor": 0,
  "metadata": {
    "colab": {
      "name": "estructuradedatos_tuplas.ipynb",
      "provenance": [],
      "authorship_tag": "ABX9TyOfqneTavc6/wnDl7foX3Uf",
      "include_colab_link": true
    },
    "kernelspec": {
      "name": "python3",
      "display_name": "Python 3"
    },
    "language_info": {
      "name": "python"
    }
  },
  "cells": [
    {
      "cell_type": "markdown",
      "metadata": {
        "id": "view-in-github",
        "colab_type": "text"
      },
      "source": [
        "<a href=\"https://colab.research.google.com/github/ksh0t/Practica_python/blob/main/estructuradedatos_tuplas.ipynb\" target=\"_parent\"><img src=\"https://colab.research.google.com/assets/colab-badge.svg\" alt=\"Open In Colab\"/></a>"
      ]
    },
    {
      "cell_type": "code",
      "execution_count": null,
      "metadata": {
        "id": "VKPULK3cfba-"
      },
      "outputs": [],
      "source": [
        "#ejercicio 1"
      ]
    }
  ]
}