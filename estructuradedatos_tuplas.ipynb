{
  "nbformat": 4,
  "nbformat_minor": 0,
  "metadata": {
    "colab": {
      "name": "estructuradedatos_tuplas.ipynb",
      "provenance": [],
      "authorship_tag": "ABX9TyNPP8QErpHl3+XrO3tX6X4L",
      "include_colab_link": true
    },
    "kernelspec": {
      "name": "python3",
      "display_name": "Python 3"
    },
    "language_info": {
      "name": "python"
    }
  },
  "cells": [
    {
      "cell_type": "markdown",
      "metadata": {
        "id": "view-in-github",
        "colab_type": "text"
      },
      "source": [
        "<a href=\"https://colab.research.google.com/github/ksh0t/Practica_python/blob/main/estructuradedatos_tuplas.ipynb\" target=\"_parent\"><img src=\"https://colab.research.google.com/assets/colab-badge.svg\" alt=\"Open In Colab\"/></a>"
      ]
    },
    {
      "cell_type": "code",
      "execution_count": null,
      "metadata": {
        "id": "VKPULK3cfba-",
        "outputId": "42d5a9a4-6005-458b-ed80-a8e41eb62526",
        "colab": {
          "base_uri": "https://localhost:8080/"
        }
      },
      "outputs": [
        {
          "output_type": "stream",
          "name": "stdout",
          "text": [
            "2\n",
            "10\n",
            "5\n",
            "[(10, 'par'), (5, 'impar')]\n"
          ]
        }
      ],
      "source": [
        "#ejercicio 1\n",
        "\"\"\"\n",
        "Pide al usuario el número de números enteros que va a introducir por teclado. Para cada uno de esos\n",
        "números, crea una tupla donde la primera entrada sea el número entero y, la segunda, la palabra “par” o\n",
        "“impar” según la paridad del número entero. Muestra la tupla recién creada al usuario\n",
        "\"\"\"\n",
        "\n",
        "intronum = int(input())\n",
        "nums= []\n",
        "for i in range(intronum):\n",
        "    isEven = False\n",
        "    k = int(input())\n",
        "    if k % 2 == 0:\n",
        "        isEven = True\n",
        "    nums.append((k,\"par\"if isEven else \"impar\"))\n",
        "print(nums)\n"
      ]
    },
    {
      "cell_type": "code",
      "source": [
        "#ejercicio 2\n",
        "\"\"\"\n",
        "Dado un año proporcionado por el usuario, crea una tupla de dos elementos cuya primera entrada sea el año\n",
        "y, la segunda entrada, el horóscopo chino correspondiente.\n",
        "\"\"\"\n"
      ],
      "metadata": {
        "id": "C_A5DsAKCKPv"
      },
      "execution_count": null,
      "outputs": []
    }
  ]
}