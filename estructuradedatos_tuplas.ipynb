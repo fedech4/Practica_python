{
  "nbformat": 4,
  "nbformat_minor": 0,
  "metadata": {
    "colab": {
      "name": "estructuradedatos_tuplas.ipynb",
      "provenance": [],
      "authorship_tag": "ABX9TyPmIHqEKceTUqlIqQERxwg7",
      "include_colab_link": true
    },
    "kernelspec": {
      "name": "python3",
      "display_name": "Python 3"
    },
    "language_info": {
      "name": "python"
    }
  },
  "cells": [
    {
      "cell_type": "markdown",
      "metadata": {
        "id": "view-in-github",
        "colab_type": "text"
      },
      "source": [
        "<a href=\"https://colab.research.google.com/github/ksh0t/Practica_python/blob/main/estructuradedatos_tuplas.ipynb\" target=\"_parent\"><img src=\"https://colab.research.google.com/assets/colab-badge.svg\" alt=\"Open In Colab\"/></a>"
      ]
    },
    {
      "cell_type": "code",
      "execution_count": null,
      "metadata": {
        "id": "VKPULK3cfba-",
        "outputId": "42d5a9a4-6005-458b-ed80-a8e41eb62526",
        "colab": {
          "base_uri": "https://localhost:8080/"
        }
      },
      "outputs": [
        {
          "output_type": "stream",
          "name": "stdout",
          "text": [
            "2\n",
            "10\n",
            "5\n",
            "[(10, 'par'), (5, 'impar')]\n"
          ]
        }
      ],
      "source": [
        "#ejercicio 1\n",
        "\"\"\"\n",
        "Pide al usuario el número de números enteros que va a introducir por teclado. Para cada uno de esos\n",
        "números, crea una tupla donde la primera entrada sea el número entero y, la segunda, la palabra “par” o\n",
        "“impar” según la paridad del número entero. Muestra la tupla recién creada al usuario\n",
        "\"\"\"\n",
        "\n",
        "intronum = int(input())\n",
        "nums= []\n",
        "for i in range(intronum):\n",
        "    isEven = False\n",
        "    k = int(input())\n",
        "    if k % 2 == 0:\n",
        "        isEven = True\n",
        "    nums.append((k,\"par\"if isEven else \"impar\"))\n",
        "print(nums)\n"
      ]
    },
    {
      "cell_type": "code",
      "source": [
        "#ejercicio 2\n",
        "\"\"\"\n",
        "Dado un año proporcionado por el usuario, crea una tupla de dos elementos cuya primera entrada sea el año\n",
        "y, la segunda entrada, el horóscopo chino correspondiente.\n",
        "\"\"\"\n",
        "\n",
        "introanho = int(input())\n",
        "horoscopes = [\"mono\", \"gallo\",\"perro\", \"cerdo\", \"rata\", \"buey\", \"tigre\", \"conejo\", \"dragon\", \"serpiente\", \"caballo\", \"cabra\"]\n",
        "horoscope = horoscopes[introanho % 12]\n",
        "result = (introanho, horoscope)\n",
        "print(result)\n"
      ],
      "metadata": {
        "id": "C_A5DsAKCKPv",
        "outputId": "9707f963-922e-42e5-9be1-42f7e258ea0d",
        "colab": {
          "base_uri": "https://localhost:8080/"
        }
      },
      "execution_count": null,
      "outputs": [
        {
          "output_type": "stream",
          "name": "stdout",
          "text": [
            "1992\n",
            "(1992, 'mono')\n"
          ]
        }
      ]
    },
    {
      "cell_type": "code",
      "source": [
        "#Ejercicio 3\n",
        "\"\"\"\n",
        "Dada una frase proporcionada por el usuario, crea una lista de tuplas indicando palabra, longitud de cada\n",
        "palabra, letra inicial y posición que ocupan dentro de la frase\n",
        "\"\"\"\n",
        "\n",
        "introfrase = input()\n",
        "introfrase = introfrase.lower()\n",
        "lista_tuplas = []\n",
        "palabras = introfrase.split(\" \")\n",
        "\n",
        "for i in range(len(palabras)):\n",
        "    lista_tuplas.append((palabras[i],len(palabras[i]), palabras[i][0],[i]))\n",
        "\n",
        "print(lista_tuplas)\n",
        "\n",
        "\n"
      ],
      "metadata": {
        "id": "3B_SWOAYSdN0",
        "outputId": "15070fef-d500-4e68-a938-4b75ad83db7e",
        "colab": {
          "base_uri": "https://localhost:8080/"
        }
      },
      "execution_count": null,
      "outputs": [
        {
          "output_type": "stream",
          "name": "stdout",
          "text": [
            "fede come\n",
            "[('fede', 4, 'f', [0]), ('come', 4, 'c', [1])]\n"
          ]
        }
      ]
    },
    {
      "cell_type": "code",
      "source": [
        "#ejercicio 4\n",
        "\"\"\"\n",
        "Haz que el usuario introduzca palabras hasta que introduzca una palabra vacía. Guarda todas las palabras\n",
        "en una tupla y muestra la primera y la última introducidas haciendo uso del método unpacking.\n",
        "\n",
        "PISTA: Para guardar los elementos de uno en uno vas a tener que utilizar un tipo de dato que no es tupla\n",
        "y luego transformarlo a tupla.\n",
        "\"\"\"\n",
        "intropalabra = input()\n",
        "listapalabras = []\n",
        "\n",
        "while intropalabra != \" \":\n",
        "    intropalabra = intropalabra.lower()\n",
        "    listapalabras.append(intropalabra)\n",
        "    intropalabra = input()\n",
        "else:\n",
        "    print(\"A continuación tu lista de palabras\")\n",
        "\n",
        "listapalabras = tuple(listapalabras)\n",
        "\n",
        "first, *_ , last = listapalabras\n",
        "\n",
        "print(first)\n",
        "print(last)\n",
        "\n",
        "\n",
        "\n",
        "    "
      ],
      "metadata": {
        "id": "j34rh6xnNmU-",
        "outputId": "099cab51-8a65-4e66-835f-ffe27c35eead",
        "colab": {
          "base_uri": "https://localhost:8080/"
        }
      },
      "execution_count": 7,
      "outputs": [
        {
          "output_type": "stream",
          "name": "stdout",
          "text": [
            "fede\n",
            "chaves\n",
            "flecha\n",
            " \n",
            "A continuación tu lista de palabras\n",
            "fede\n",
            "flecha\n"
          ]
        }
      ]
    },
    {
      "cell_type": "code",
      "source": [
        ""
      ],
      "metadata": {
        "id": "jBSXhDntNtPo"
      },
      "execution_count": null,
      "outputs": []
    }
  ]
}