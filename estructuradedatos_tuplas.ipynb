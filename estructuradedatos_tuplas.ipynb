{
  "nbformat": 4,
  "nbformat_minor": 0,
  "metadata": {
    "colab": {
      "name": "estructuradedatos_tuplas.ipynb",
      "provenance": [],
      "authorship_tag": "ABX9TyPeERpCvnCq+AkqEYJTiuJf",
      "include_colab_link": true
    },
    "kernelspec": {
      "name": "python3",
      "display_name": "Python 3"
    },
    "language_info": {
      "name": "python"
    }
  },
  "cells": [
    {
      "cell_type": "markdown",
      "metadata": {
        "id": "view-in-github",
        "colab_type": "text"
      },
      "source": [
        "<a href=\"https://colab.research.google.com/github/ksh0t/Practica_python/blob/main/estructuradedatos_tuplas.ipynb\" target=\"_parent\"><img src=\"https://colab.research.google.com/assets/colab-badge.svg\" alt=\"Open In Colab\"/></a>"
      ]
    },
    {
      "cell_type": "code",
      "execution_count": null,
      "metadata": {
        "id": "VKPULK3cfba-",
        "outputId": "42d5a9a4-6005-458b-ed80-a8e41eb62526",
        "colab": {
          "base_uri": "https://localhost:8080/"
        }
      },
      "outputs": [
        {
          "output_type": "stream",
          "name": "stdout",
          "text": [
            "2\n",
            "10\n",
            "5\n",
            "[(10, 'par'), (5, 'impar')]\n"
          ]
        }
      ],
      "source": [
        "#ejercicio 1\n",
        "\"\"\"\n",
        "Pide al usuario el número de números enteros que va a introducir por teclado. Para cada uno de esos\n",
        "números, crea una tupla donde la primera entrada sea el número entero y, la segunda, la palabra “par” o\n",
        "“impar” según la paridad del número entero. Muestra la tupla recién creada al usuario\n",
        "\"\"\"\n",
        "\n",
        "intronum = int(input())\n",
        "nums= []\n",
        "for i in range(intronum):\n",
        "    isEven = False\n",
        "    k = int(input())\n",
        "    if k % 2 == 0:\n",
        "        isEven = True\n",
        "    nums.append((k,\"par\"if isEven else \"impar\"))\n",
        "print(nums)\n"
      ]
    },
    {
      "cell_type": "code",
      "source": [
        "#ejercicio 2\n",
        "\"\"\"\n",
        "Dado un año proporcionado por el usuario, crea una tupla de dos elementos cuya primera entrada sea el año\n",
        "y, la segunda entrada, el horóscopo chino correspondiente.\n",
        "\"\"\"\n",
        "\n",
        "introanho = int(input())\n",
        "horoscopes = [\"mono\", \"gallo\",\"perro\", \"cerdo\", \"rata\", \"buey\", \"tigre\", \"conejo\", \"dragon\", \"serpiente\", \"caballo\", \"cabra\"]\n",
        "horoscope = horoscopes[introanho % 12]\n",
        "result = (introanho, horoscope)\n",
        "print(result)\n"
      ],
      "metadata": {
        "id": "C_A5DsAKCKPv",
        "outputId": "9707f963-922e-42e5-9be1-42f7e258ea0d",
        "colab": {
          "base_uri": "https://localhost:8080/"
        }
      },
      "execution_count": null,
      "outputs": [
        {
          "output_type": "stream",
          "name": "stdout",
          "text": [
            "1992\n",
            "(1992, 'mono')\n"
          ]
        }
      ]
    },
    {
      "cell_type": "code",
      "source": [
        "#Ejercicio 3\n",
        "\"\"\"\n",
        "Dada una frase proporcionada por el usuario, crea una lista de tuplas indicando palabra, longitud de cada\n",
        "palabra, letra inicial y posición que ocupan dentro de la frase\n",
        "\"\"\"\n",
        "\n",
        "introfrase = input()\n",
        "introfrase = introfrase.lower()\n",
        "lista_tuplas = []\n",
        "palabras = introfrase.split(\" \")\n",
        "\n",
        "for i in range(len(palabras)):\n",
        "    lista_tuplas.append((palabras[i],len(palabras[i]), palabras[i][0],[i]))\n",
        "\n",
        "print(lista_tuplas)\n",
        "\n",
        "\n"
      ],
      "metadata": {
        "id": "3B_SWOAYSdN0",
        "outputId": "15070fef-d500-4e68-a938-4b75ad83db7e",
        "colab": {
          "base_uri": "https://localhost:8080/"
        }
      },
      "execution_count": null,
      "outputs": [
        {
          "output_type": "stream",
          "name": "stdout",
          "text": [
            "fede come\n",
            "[('fede', 4, 'f', [0]), ('come', 4, 'c', [1])]\n"
          ]
        }
      ]
    },
    {
      "cell_type": "code",
      "source": [
        "#ejercicio 4\n",
        "\"\"\"\n",
        "Haz que el usuario introduzca palabras hasta que introduzca una palabra vacía. Guarda todas las palabras\n",
        "en una tupla y muestra la primera y la última introducidas haciendo uso del método unpacking.\n",
        "\n",
        "PISTA: Para guardar los elementos de uno en uno vas a tener que utilizar un tipo de dato que no es tupla\n",
        "y luego transformarlo a tupla.\n",
        "\"\"\"\n",
        "intropalabra = input()\n",
        "listapalabras = []\n",
        "\n",
        "while intropalabra != \" \":\n",
        "    intropalabra = intropalabra.lower()\n",
        "    listapalabras.append(intropalabra)\n",
        "    intropalabra = input()\n",
        "else:\n",
        "    print(\"A continuación tu lista de palabras\")\n",
        "\n",
        "listapalabras = tuple(listapalabras)\n",
        "\n",
        "first, *_ , last = listapalabras\n",
        "\n",
        "print(first)\n",
        "print(last)\n",
        "\n",
        "\n",
        "\n",
        "    "
      ],
      "metadata": {
        "id": "j34rh6xnNmU-",
        "outputId": "099cab51-8a65-4e66-835f-ffe27c35eead",
        "colab": {
          "base_uri": "https://localhost:8080/"
        }
      },
      "execution_count": null,
      "outputs": [
        {
          "output_type": "stream",
          "name": "stdout",
          "text": [
            "fede\n",
            "chaves\n",
            "flecha\n",
            " \n",
            "A continuación tu lista de palabras\n",
            "fede\n",
            "flecha\n"
          ]
        }
      ]
    },
    {
      "cell_type": "code",
      "source": [
        "#ejercicio 5\n",
        "\"\"\"\n",
        "Dada una lista de palabras, crea otra lista del mismo tamaño que guarde la longitud de cada palabra. Usa\n",
        "la función zip() para crear un diccionario con claves las palabras y valores, su longitud.\n",
        "\"\"\"\n",
        "\n",
        "lista1 = [\"manzana\", \"naranja\", \"pera\"]\n",
        "lista2 =[]\n",
        "for i in lista1:\n",
        "    lista2.append(len(i))\n",
        "\n",
        "dicc = zip(lista1,lista2)\n",
        "list(dicc)\n"
      ],
      "metadata": {
        "id": "jBSXhDntNtPo",
        "outputId": "b0eb55ca-c18f-4d91-9087-5ea4f388d599",
        "colab": {
          "base_uri": "https://localhost:8080/"
        }
      },
      "execution_count": null,
      "outputs": [
        {
          "output_type": "execute_result",
          "data": {
            "text/plain": [
              "[('manzana', 7), ('naranja', 7), ('pera', 4)]"
            ]
          },
          "metadata": {},
          "execution_count": 4
        }
      ]
    },
    {
      "cell_type": "code",
      "source": [
        "#ejercicio 6\n",
        "\"\"\"\n",
        "Haz que el usuario introduzca palabras hasta que introduzca una palabra vacía. Guarda todas las palabras\n",
        "en una tupla y muestra la tupla y el número total de caracteres que ha introducido.\n",
        "PISTA: Para guardar los elementos de uno en uno vas a tener que utilizar un tipo de dato que no es tupla\n",
        "y luego transformarlo a tupla.\n",
        "\"\"\"\n",
        "intropalabra = input()\n",
        "listapalabras = []\n",
        "lista2=[]\n",
        "\n",
        "while intropalabra != \" \":\n",
        "    intropalabra = intropalabra.lower()\n",
        "    listapalabras.append(intropalabra)\n",
        "    intropalabra = input()\n",
        "else:\n",
        "    print(\"tas ready\")\n",
        "\n",
        "for i in listapalabras:\n",
        "    lista2.append(len(i))\n",
        "\n",
        "dicc = zip(listapalabras,lista2)\n",
        "list(dicc)"
      ],
      "metadata": {
        "id": "IlEe8XbKinDC",
        "outputId": "ed89b039-24cf-4bbd-a05d-ccf99df10967",
        "colab": {
          "base_uri": "https://localhost:8080/"
        }
      },
      "execution_count": null,
      "outputs": [
        {
          "output_type": "stream",
          "name": "stdout",
          "text": [
            "fede \n",
            "comer\n",
            "manzanas\n",
            "nunca\n",
            " \n",
            "tas ready\n"
          ]
        },
        {
          "output_type": "execute_result",
          "data": {
            "text/plain": [
              "[('fede ', 5), ('comer', 5), ('manzanas', 8), ('nunca', 5)]"
            ]
          },
          "metadata": {},
          "execution_count": 3
        }
      ]
    },
    {
      "cell_type": "code",
      "source": [
        "#ejercicio 7\n",
        "\"\"\"\n",
        "Crea una lista de 20 tuplas de tamaño 2. La primera entrada será un número entero entre 1 y 20 y la segunda\n",
        "entrada contendrá una lista con los 10 primeros múltiplos del número entero correspondiente. Por último,\n",
        "muestra las tablas de multiplicar del 1 al 20 con el formato “1 x 1 = 1”.\n",
        "\"\"\"\n",
        "lista1 = []\n",
        "\n",
        "for i in range(1,21):\n",
        "    lista1.append((i,[i * j for j in range(1,11)]))\n",
        "\n",
        "for item in lista1:\n",
        "    print(item[0])\n",
        "    print(\"\\n ==== taBLA DEL {} ====\".format(item[0]))\n",
        "    for multiple in item[1]:\n",
        "        print(item[1].index(multiple))\n",
        "        print(\"{} x {} = {}\".format(item[0], item[1].index(multiple) +1, multiple))\n",
        "\n"
      ],
      "metadata": {
        "id": "YLbWvoQGyslj"
      },
      "execution_count": null,
      "outputs": []
    },
    {
      "cell_type": "code",
      "source": [
        "#ejercicio 8 \n",
        "\"\"\"\n",
        "Pide al usuario dos números enteros por teclado. Asegúrate de que el primero es mayor o igual al segundo.\n",
        "Realiza la división entera y guarda en una tupla el dividendo, el divisor, el cociente y el resto de la divisón\n",
        "entera realizada y muéstrale al usuario el resultado por pantalla.\n",
        "\"\"\"\n",
        "\n",
        "n1 = int(input(\" \"))\n",
        "n2 = int(input(\" \"))\n",
        "\n",
        "resultado = []  \n",
        "\n",
        "while n1 >= n2:\n",
        "    resultado.append(n1)\n",
        "    resultado.append(n2)\n",
        "    resultado.append(n1//n2)\n",
        "    resultado.append(n1%n2)\n",
        "    print(int(n1/n2))\n",
        "    break\n",
        "\n",
        "divi = zip(resultado)\n",
        "\n",
        "list(divi)\n",
        "\n",
        "print(\"el dividendo es {}, el divisor es {} el cociente es {} y el resto es {}\".format(resultado[0],resultado[1],resultado[2],resultado[3]))\n"
      ],
      "metadata": {
        "id": "92_-SERV1bTv",
        "outputId": "3eae2ff7-e98e-4fdf-9ed6-b23ef6f6edc7",
        "colab": {
          "base_uri": "https://localhost:8080/"
        }
      },
      "execution_count": null,
      "outputs": [
        {
          "output_type": "stream",
          "name": "stdout",
          "text": [
            " 10\n",
            " 5\n",
            "2\n",
            "el dividendo es 10, el divisor es 5 el cociente es 2 y el resto es 0\n"
          ]
        }
      ]
    },
    {
      "cell_type": "code",
      "source": [
        "#ejercicio 9\n",
        "\"\"\"\n",
        "Pide al usuario números entre 0 y 360. Para cada número, crea una tupla donde la primera entrada sea\n",
        "dicho número y, la segunda, la medida angular correspondiente en radianes. Recuerda, 360◦ = 2πrad. En\n",
        "este caso, utiliza π = 3.141592653589793\n",
        "\"\"\"\n",
        "import cmath\n",
        "n1 = float(input(\" \"))\n",
        "\n",
        "print((n1,n1*2*3.141592653589793/360))"
      ],
      "metadata": {
        "id": "EPqGX4vekVSo",
        "outputId": "a654b8b7-d37c-4c43-b5ac-4bfde31bfb51",
        "colab": {
          "base_uri": "https://localhost:8080/"
        }
      },
      "execution_count": 4,
      "outputs": [
        {
          "output_type": "stream",
          "name": "stdout",
          "text": [
            " 5\n",
            "5.0 0.08726646259971647\n"
          ]
        }
      ]
    }
  ]
}